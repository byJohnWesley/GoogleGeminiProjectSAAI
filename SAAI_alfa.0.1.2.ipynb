{
  "nbformat": 4,
  "nbformat_minor": 0,
  "metadata": {
    "colab": {
      "provenance": [],
      "include_colab_link": true
    },
    "kernelspec": {
      "name": "python3",
      "display_name": "Python 3"
    },
    "language_info": {
      "name": "python"
    }
  },
  "cells": [
    {
      "cell_type": "markdown",
      "metadata": {
        "id": "view-in-github",
        "colab_type": "text"
      },
      "source": [
        "<a href=\"https://colab.research.google.com/github/byJohnWesley/GoogleGeminiProjectSAAI/blob/main/SAAI_alfa.0.1.2.ipynb\" target=\"_parent\"><img src=\"https://colab.research.google.com/assets/colab-badge.svg\" alt=\"Open In Colab\"/></a>"
      ]
    },
    {
      "cell_type": "code",
      "execution_count": null,
      "metadata": {
        "id": "eerNd-tUeHqw"
      },
      "outputs": [],
      "source": [
        "%pip -q install google-genai"
      ]
    },
    {
      "cell_type": "code",
      "source": [
        "# Configura a API Key do Google Gemini\n",
        "\n",
        "import os\n",
        "from google.colab import userdata\n",
        "\n",
        "os.environ[\"GOOGLE_API_KEY\"] = userdata.get('GOOGLE_API_KEY')"
      ],
      "metadata": {
        "id": "Re9ot69FeUq1"
      },
      "execution_count": null,
      "outputs": []
    },
    {
      "cell_type": "code",
      "source": [
        "!pip install -q google-adk"
      ],
      "metadata": {
        "id": "590nsee6elRW"
      },
      "execution_count": null,
      "outputs": []
    },
    {
      "cell_type": "code",
      "source": [
        "from google.adk.agents import Agent\n",
        "from google.adk.runners import Runner\n",
        "from google.adk.sessions import InMemorySessionService\n",
        "from google.adk.tools import google_search\n",
        "from google.genai import types  # Para criar conteúdos (Content e Part)\n",
        "from datetime import date\n",
        "import textwrap # Para formatar melhor a saída de texto\n",
        "from IPython.display import display, Markdown # Para exibir texto formatado no Colab\n",
        "import requests # Para fazer requisições HTTP\n",
        "import warnings\n",
        "\n",
        "warnings.filterwarnings(\"ignore\")"
      ],
      "metadata": {
        "id": "YynQNbvpeqbU"
      },
      "execution_count": null,
      "outputs": []
    },
    {
      "cell_type": "code",
      "source": [
        "# Função auxiliar que envia uma mensagem para um agente via Runner e retorna a resposta final\n",
        "def call_agent(agent: Agent, message_text: str) -> str:\n",
        "    # Cria um serviço de sessão em memória\n",
        "    session_service = InMemorySessionService()\n",
        "    # Cria uma nova sessão (você pode personalizar os IDs conforme necessário)\n",
        "    session = session_service.create_session(app_name=agent.name, user_id=\"user1\", session_id=\"session1\")\n",
        "    # Cria um Runner para o agente\n",
        "    runner = Runner(agent=agent, app_name=agent.name, session_service=session_service)\n",
        "    # Cria o conteúdo da mensagem de entrada\n",
        "    content = types.Content(role=\"user\", parts=[types.Part(text=message_text)])\n",
        "\n",
        "    final_response = \"\"\n",
        "    # Itera assincronamente pelos eventos retornados durante a execução do agente\n",
        "    for event in runner.run(user_id=\"user1\", session_id=\"session1\", new_message=content):\n",
        "        if event.is_final_response():\n",
        "          for part in event.content.parts:\n",
        "            if part.text is not None:\n",
        "              final_response += part.text\n",
        "              final_response += \"\\n\"\n",
        "    return final_response"
      ],
      "metadata": {
        "id": "ySfxdoYxe0_E"
      },
      "execution_count": null,
      "outputs": []
    },
    {
      "cell_type": "code",
      "source": [
        "# Função auxiliar para exibir texto formatado em Markdown no Colab\n",
        "def to_markdown(text):\n",
        "  text = text.replace('•', '  *')\n",
        "  return Markdown(textwrap.indent(text, '> ', predicate=lambda _: True))"
      ],
      "metadata": {
        "id": "Ta69e0u8e5nX"
      },
      "execution_count": null,
      "outputs": []
    },
    {
      "cell_type": "code",
      "source": [
        "##########################################\n",
        "# --- Agente 1: Coletor de Dados --- #\n",
        "##########################################\n",
        "def agente_coletor(topico, data_de_hoje):\n",
        "\n",
        "    coletor = Agent(\n",
        "        name=\"agente_coletor\",\n",
        "        model=\"gemini-2.0-flash\",\n",
        "        instruction=\"\"\"\n",
        "        Você é um assistente especialista em coleta de dados do mercado financeiro.\n",
        "        Sua tarefa é utilizar ferramentas de busca, como google_search, para obter informações atualizadas com no máximo um mês de defasagem a partir da data atual.\n",
        "        A partir do ativo fornecido pelo usuário — que pode ser um nome, setor ou ticker —,\n",
        "        você deverá coletar e estruturar uma base de dados com ativos relevantes e correlacionados ao setor mencionado ou ao ativo especificado.\n",
        "        Sua abordagem deve ser quantitativa, racional e sistemática, com foco em fundamentos sólidos.\n",
        "        Nos critérios de crescimento, avalie lucro líquido crescente, consistência nos resultados, receita crescente, além de margem líquida e EBITDA saudáveis.\n",
        "        Nos indicadores de endividamento, leve em conta a dívida bruta, dívida líquida, a relação dívida líquida/EBITDA e o índice de cobertura de juros.\n",
        "        Para a eficiência operacional, observe o giro de ativos e a margem operacional.\n",
        "        Nos critérios de rentabilidade, analise ROE (retorno sobre o patrimônio líquido) e ROIC (retorno sobre o capital investido).\n",
        "        Em termos de valuation, utilize múltiplos como P/L (preço/lucro), P/VPA (preço sobre valor patrimonial), EV/EBITDA e dividend yield,\n",
        "        além de fórmulas clássicas como o Preço Justo (fórmula de Graham) e o Preço Topo (método Bazin), baseando-se sempre em projeções conservadoras de lucro e dividendos.\n",
        "        Considere também a evolução do patrimônio líquido e a geração de caixa operacional, bem como o CAGR (taxa de crescimento anual composta) da receita, lucro e dividendos.\n",
        "        A análise deve sempre partir de dados históricos, com projeções prudentes e margem de segurança.\n",
        "        Com base nesses critérios, monte uma lista de até 45 ativos de destaque, divididos entre 10 ações brasileiras, 10 internacionais, até 10 commodities e até 8 fundos imobiliários,\n",
        "        e 7 investimentos correlacionados não citados, conforme o setor analisado.\n",
        "        Para cada ativo, apresente os dados obtidos e justifique sua inclusão com base nos fundamentos levantados.\n",
        "        Se o input do usuário for um ativo individual e não um setor, direcione a análise para ativos do mesmo setor ou segmento.\n",
        "        A lista deve conter apenas os melhores ativos cujos dados demonstram o melhor desempenho e consistência segundo os critérios estabelecidos em deterimento a outros ativos.\n",
        "        \"\"\",\n",
        "        description=\"Agente que coleta informações e dados sobre empresas no Google\",\n",
        "        tools=[google_search]\n",
        "    )\n",
        "\n",
        "    entrada_do_agente_coletor = f\"Tópico: {topico}\\nData de hoje: {data_de_hoje}\"\n",
        "\n",
        "    coleta_de_dados = call_agent(coletor, entrada_do_agente_coletor)\n",
        "    return coleta_de_dados"
      ],
      "metadata": {
        "id": "17LEbgeAe8VE"
      },
      "execution_count": null,
      "outputs": []
    },
    {
      "cell_type": "code",
      "source": [
        "########################################################\n",
        "# --- Agente 2: Analista de Cenário Macroeconômico --- #\n",
        "########################################################\n",
        "def agente_analista_macro(topico, coleta_de_dados):\n",
        "    analista_macro = Agent(\n",
        "        name=\"agente_analista_macro\",\n",
        "        model=\"gemini-2.0-flash\",\n",
        "        # Inserir as instruções do Agente Analista #################################################\n",
        "        instruction=\"\"\"\n",
        "        Você é um especialista em análise de mercado financeiro com foco em cenários macroeconômicos.\n",
        "        Sua tarefa é utilizar a ferramenta (google_search) para buscar, coletar e analisar informações macroeconômicas atualizadas — com no máximo um mês de defasagem.\n",
        "        A partir da lista de empresas, commodities e demais ativos financeiros coletados pelo agente 1, coletor, investigue o contexto macroeconômico que possa afetar diretamente\n",
        "        ou indiretamente esses ativos. Considere fatores como juros, inflação, PIB, cenário político-econômico nacional e global, política monetária,\n",
        "        decisões de bancos centrais, conflitos geopolíticos, e outras variáveis relevantes.\n",
        "        Analise com base em dados históricos, identificando padrões e impactos recorrentes, mas sem deixar que percepções subjetivas ou emoções influenciem sua avaliação.\n",
        "        Cruze referências confiáveis para selecionar os pontos com maior grau de influência comprovada.\n",
        "        Relacione como cada um dos ativos analisados pode reagir ao atual contexto macroeconômico, e destaque os possíveis desdobramentos.\n",
        "        Ao final, para cada ativo avaliado, associe pelo menos duas notícias macroeconômicas relevantes a cada ativo que ajudem a justificar seu raciocínio e enriquecem\n",
        "        a interpretação do cenário atual. Retorne uma lista clara e justificada com essas análises para os próximos agentes utilizarem.\n",
        "        \"\"\",\n",
        "        description=\"Agente que Analisa Macroeconomia e relaciona dados\",\n",
        "        tools=[google_search]\n",
        "    )\n",
        "\n",
        "    entrada_do_agente_analista_macro = f\"Tópico:{topico}\\nDados Coletados: {coleta_de_dados}\"\n",
        "    # Executa o agente\n",
        "    analise_macro = call_agent(analista_macro, entrada_do_agente_analista_macro)\n",
        "    return analise_macro"
      ],
      "metadata": {
        "id": "tC3MEhzFikYM"
      },
      "execution_count": null,
      "outputs": []
    },
    {
      "cell_type": "code",
      "source": [
        "########################################################\n",
        "# --- Agente 3: Analista de Cenário Microeconômico --- #\n",
        "########################################################\n",
        "def agente_analista_micro(topico, coleta_de_dados):\n",
        "    analista_micro = Agent(\n",
        "        name=\"agente_analista_micro\",\n",
        "        model=\"gemini-2.0-flash\",\n",
        "        # Inserir as instruções do Agente Analista Micro #################################################\n",
        "        instruction=\"\"\"\n",
        "        Você é um especialista em análise de mercado financeiro com foco em microeconomia.\n",
        "        Com base na lista de empresas, commodities e demais ativos financeiros coletados pelo primeiro agente, sua tarefa é utilizar a ferramenta (google_search)\n",
        "        para buscar, coletar e analisar dados atualizados sobre o cenário microeconômico que possa impactar cada ativo de forma direta ou indireta. Se o ativo analisado\n",
        "        for extrangeiro, então a analise microeconomica deve ser do cenario onde se encontra aquele ativo.\n",
        "        Essa análise deve considerar fatores como nível de concorrência no setor, estrutura de mercado, grau de inovação, cadeia de suprimentos e produção,\n",
        "        regulamentações específicas, barreiras de entrada, estratégias comerciais,\n",
        "        dinâmica entre fornecedores e distribuidores, custos operacionais e capacidade de repasse de preços ao consumidor.\n",
        "        Leve em conta a evolução desses fatores ao longo do tempo e como eles historicamente influenciam a performance dos ativos, sempre mantendo uma abordagem racional,\n",
        "        técnica e livre de vieses emocionais. Cruze diferentes fontes confiáveis usando a ferramenta de busca, identificando padrões,\n",
        "        fragilidades e forças competitivas. A análise deve também considerar fatores internos das empresas, como decisões estratégicas, mudança de gestão,\n",
        "        novos contratos, expansão de capacidade, fusões e aquisições, entre outros eventos microeconômicos relevantes.\n",
        "        Ao final, relacione duas notícias microeconômicas recentes e relevantes para cada ativo analisado,\n",
        "        justificando sua seleção e detalhando como essas informações afetam o desempenho ou as perspectivas do ativo.\n",
        "        Apresente suas análises de forma organizada e clara para que o próximo agente possa integrar os resultados.\n",
        "        \"\"\",\n",
        "        description=\"Agente que Analisa Microeconomia e relaciona dados\",\n",
        "        tools=[google_search]\n",
        "    )\n",
        "\n",
        "    entrada_do_agente_analista_micro = f\"Tópico:{topico}\\nDados Coletados: {coleta_de_dados}\"\n",
        "    # Executa o agente\n",
        "    analise_micro = call_agent(analista_micro, entrada_do_agente_analista_micro)\n",
        "    return analise_micro"
      ],
      "metadata": {
        "id": "Kx_ODpwvi_Gt"
      },
      "execution_count": null,
      "outputs": []
    },
    {
      "cell_type": "code",
      "source": [
        "# --- Agente 4: Analista de Cenarios --- #\n",
        "###########################################\n",
        "\n",
        "def agente_analista_cenarios(topico, coleta_de_dados, analise_macro, analise_micro):\n",
        "    analista_cenarios = Agent(\n",
        "        name=\"agente_analista_cenarios\",\n",
        "        model=\"gemini-2.0-flash\",\n",
        "        # Inserir as instruções do Agente Analista de Cenário #######################################\n",
        "        instruction=\"\"\"\n",
        "Você é um analista especializado em correlacionar dados de micro e macroeconomia, com foco na interpretação de políticas públicas,\n",
        "dinâmicas de mercado e projeções estratégicas no contexto financeiro. Sua função é integrar todos os dados coletados anteriormente — incluindo os\n",
        "fundamentos dos ativos, as análises macroeconômicas e microeconômicas — para projetar possíveis desdobramentos sobre o comportamento de cada ativo ao longo do tempo.\n",
        "Utilizando a ferramenta (google_search), complemente as informações necessárias com atualizações que fortaleçam ou revelem novas sinergias entre os dados analisados.\n",
        "Você deverá identificar cenários prováveis com base nas políticas econômicas que estão em curso ou em debate (monetárias, fiscais, regulatórias e setoriais),\n",
        "analisando não apenas os efeitos históricos da implementação dessas medidas, mas também as chances de elas se concretizarem no presente ciclo.\n",
        "Avalie como essas medidas impactam direta e indiretamente os ativos da lista, buscando entender o jogo de interesses e o equilíbrio de poder entre os atores econômicos\n",
        "(governo, bancos centrais, empresas, consumidores e mercados internacionais).\n",
        "A partir disso, estruture três tipos de cenários: o mais provável, o alternativo e o improvável, justificando com dados e lógica de mercado cada projeção.\n",
        "Para cada ativo, apresente como ele tende a se comportar em cada cenário, destacando os que têm maior resiliência ou propensão a se valorizar independentemente das incertezas.\n",
        "Melhore a sinergia entre os dados sempre que identificar lacunas ou brechas entre as análises dos agentes anteriores,\n",
        "elevando o nível de coerência e robustez da projeção.\n",
        "Por fim, entregue uma lista rankeada dos ativos analisados, priorizando aqueles com melhor posicionamento frente aos cenários projetados,\n",
        "acompanhada de observações técnicas e estratégicas para os próximos anos.\n",
        "        \"\"\",\n",
        "        description=\"Agente analista de Macro e Micro economias, possíveis cenários econômicos e como isso afeta o mercado\"\n",
        "    )\n",
        "\n",
        "    entrada_do_analista_cenarios = f\"\"\"Tópico: {topico}\n",
        "Dados Coletados: {coleta_de_dados}\n",
        "Análise Macro: {analise_macro}\n",
        "Análise Micro: {analise_micro}\"\"\"\n",
        "\n",
        "    # Executa o agente\n",
        "    analise_final = call_agent(analista_cenarios, entrada_do_analista_cenarios)\n",
        "    return analise_final\n"
      ],
      "metadata": {
        "id": "y3Aqhu8VqBus"
      },
      "execution_count": null,
      "outputs": []
    },
    {
      "cell_type": "code",
      "source": [
        "##############################################\n",
        "# --- Agente 5: Analista Fundamentalista --- #\n",
        "##############################################\n",
        "def agente_analista_fundamentalista(topico, analise_macro, analise_micro, analise_final):\n",
        "    fundamentalista = Agent(\n",
        "        name=\"agente_analista_fundamentalista\",\n",
        "        model=\"gemini-2.0-flash\",\n",
        "        # Inserir as instruções do Agente Analista Fundamentalista ##########################################\n",
        "        instruction=\"\"\"\n",
        "   Você é um analista especialista em análise fundamentalista avançada, com uma abordagem quantitativa, racional e sistemática.\n",
        "   Sua função é consolidar todas as análises anteriores — os fundamentos dos ativos, os dados microeconômicos, macroeconômicos e as projeções de cenários —\n",
        "   para realizar uma avaliação profunda da qualidade e do potencial de valorização dos ativos selecionados.\n",
        "   Utilize a ferramenta (google_search) para confirmar e complementar os dados financeiros necessários.\n",
        "   Baseie-se em uma metodologia sólida que filtre vieses emocionais e permita identificar se um ativo está em “ponto de compra”, “zona neutra” ou “preço topo”,\n",
        "   sempre fundamentado em histórico, projeções conservadoras e uma margem de segurança adequada. Sua análise deve contemplar múltiplos indicadores estratégicos,\n",
        "   levando em conta fundamentos operacionais como lucro líquido crescente, consistência nos resultados, receita em expansão, margens líquida e EBITDA saudáveis,\n",
        "   além de geração de caixa operacional sólida. Os indicadores de endividamento devem incluir dívida bruta, dívida líquida,\n",
        "   relação dívida líquida/EBITDA e índice de cobertura de juros. Quanto à eficiência, avalie o giro de ativos, a margem operacional e a\n",
        "   produtividade por segmento. Em relação à rentabilidade, leve em conta o retorno sobre o patrimônio líquido (ROE) e o retorno sobre o capital investido (ROIC).\n",
        "   No que diz respeito à precificação, utilize múltiplos como P/L, P/VPA, EV/EBITDA e dividend yield, e empregue modelos clássicos como o\n",
        "   Preço Justo de Graham e o Preço Topo pelo Método Bazin. A análise deve também considerar o balanço patrimonial de cada empresa,\n",
        "   avaliando a evolução do patrimônio líquido e os indicadores de crescimento, como o CAGR de receita, lucro e dividendos.\n",
        "   Atribua pesos distintos para cada indicador conforme a natureza do ativo (empresa, commodity, fundo, etc.), e conecte toda essa análise ao cenário político,\n",
        "   às políticas financeiras em vigor ou previstas, e às condições macro e microeconômicas.\n",
        "   Com base em todas as análises e dados coletados, selecione os cinco ativos mais sólidos e promissores de cada categoria do setor solicitado,\n",
        "   priorizando aqueles que, mesmo em cenários adversos, demonstram potencial de valorização robusta, histórica e projetada acima do IPCA, do S&P 500,\n",
        "   da Nasdaq e de outros benchmarks globais. Certifique-se de que todos os ativos escolhidos atendam aos critérios descritos,\n",
        "   garantindo máxima confiabilidade e relevância estratégica à sua recomendação final.\n",
        "   \"\"\",\n",
        "        description=\"Agente Analista Fundamentalista\",\n",
        "    )\n",
        "\n",
        "    entrada_do_fundamentalista = f\"Tópico: {topico}\\nAnalise Macro: {analise_macro}\\nAnalise Micro: {analise_micro}\\nAnalise Final: {analise_final}\"\n",
        "    # Executa o agente\n",
        "    fundamentalista = call_agent(fundamentalista, entrada_do_fundamentalista)\n",
        "    return fundamentalista"
      ],
      "metadata": {
        "id": "CNjO0f11uu9c"
      },
      "execution_count": null,
      "outputs": []
    },
    {
      "cell_type": "code",
      "source": [
        "############################################################\n",
        "# --- Agente 6: Avaliador de Potencial de Investimento --- #\n",
        "############################################################\n",
        "def agente_avaliador(topico, analise_macro, analise_micro, analise_final, fundamentalista):\n",
        "    avaliador = Agent(\n",
        "        name=\"agente_avaliador\",\n",
        "        model=\"gemini-2.0-flash\",\n",
        "        instruction=\"\"\"\n",
        "        Você é um analista especialista em análise fundamentalista avançada, com uma abordagem quantitativa, racional e sistemática.\n",
        "        Sua função é consolidar todas as análises anteriores — fundamentos dos ativos, dados micro e macroeconômicos, e projeções de cenários considerados — para\n",
        "        realizar uma avaliação profunda da qualidade e do potencial de valorização dos ativos selecionados.\n",
        "        A partir dos ativos fornecidos — que podem ser nomes, setores ou tickers —, você deverá coletar e estruturar uma base de dados com ativos relevantes e\n",
        "        correlacionados ao setor mencionado ou ao ativo especificado. Avalie criteriosamente os seguintes indicadores econômicos para cada ativo:\n",
        "        Crescimento: lucro líquido crescente, consistência nos resultados, receita crescente, margens líquida e EBITDA saudáveis.\n",
        "        Endividamento: dívida bruta, dívida líquida, relação dívida líquida/EBITDA e índice de cobertura de juros.\n",
        "        Eficiência operacional: giro de ativos e margem operacional.\n",
        "        Rentabilidade: ROE (retorno sobre patrimônio líquido) e ROIC (retorno sobre capital investido).\n",
        "        Valuation: múltiplos como P/L, P/VPA, EV/EBITDA, dividend yield, Preço Justo (fórmula de Graham) e Preço Topo (método Bazin), baseando-se em projeções conservadoras.\n",
        "        Outros fatores: evolução do patrimônio líquido, geração de caixa operacional e CAGR de receita, lucro e dividendos.\n",
        "        A análise deve ser sempre baseada em dados históricos, projeções prudentes e margem de segurança.\n",
        "        Com base nessa análise, selecione os 5 melhores ativos de cada setor, priorizando aqueles que mostram maior solidez e potencial de valorização,\n",
        "        mesmo em cenários adversos.\n",
        "        Para cada ativo selecionado, atribua:\n",
        "        Uma nota de 0 a 10 para o grau de indicação de investimento, acompanhada da porcentagem estimada de possível assertividade dessa indicação.\n",
        "        Um ranking de risco em três níveis: Altamente arriscado, Moderado ou Seguro.\n",
        "        Um ranking de risco versus retorno para auxiliar na compreensão do equilíbrio entre potencial ganho e risco assumido.\n",
        "        Apresente um relatório detalhado para cada ativo, com análises claras dos indicadores econômicos mencionados, justificando a seleção e o posicionamento dos ativos.\n",
        "        Se o input for um ativo individual, direcione a análise para ativos do mesmo setor ou segmento, garantindo que a lista contenha apenas os melhores ativos, segundo os critérios estabelecidos.\n",
        "        Você é um avaliador especialista em análise fundamentalista, micro e macroeconomia.\n",
        "        Com base em uma abordagem simples para um investidor iniciante, apresente os dados coletados até agora de forma sucinta,\n",
        "        com linguagem que até um novato entenderia e suas siglas entre parênteses (ex: IPI, IPCA).\n",
        "        [...]\n",
        "        No final, deixe claro que não é uma recomendação de investimentos, apenas um exercício acadêmico e que nos isentamos totalmente de qualquer responsabilidade tomada por qualquer indivíduo.\n",
        "        \"\"\",\n",
        "        description=\"Agente Avaliador de Investimentos\",\n",
        "    )\n",
        "\n",
        "    entrada_do_avaliador = f\"\"\"\n",
        "    Tópico: {topico}\n",
        "    Analise Macro: {analise_macro}\n",
        "    Analise Micro: {analise_micro}\n",
        "    Analise Final: {analise_final}\n",
        "    Analise Fundamentalista: {fundamentalista}\n",
        "    \"\"\"\n",
        "\n",
        "    # Corrigido aqui:\n",
        "    avaliacao = call_agent(avaliador, entrada_do_avaliador)\n",
        "    return avaliacao\n"
      ],
      "metadata": {
        "id": "NAeNb3HEz-L8"
      },
      "execution_count": null,
      "outputs": []
    },
    {
      "cell_type": "code",
      "source": [
        "data_de_hoje = date.today().strftime(\"%d/%m/%Y\")\n",
        "\n",
        "print(\"🚀 Iniciando SAAI (Sistema de Avaliação Avançada de Investimentos) 🚀\")\n",
        "\n",
        "# --- Obter o Tópico do Usuário ---\n",
        "topico = input(\"❓ Por favor, digite o setor ou empresa sobre o qual você gostaria de conhecer sobre investimentos: \")\n",
        "\n",
        "# Inserir lógica do sistema de agentes ################################################\n",
        "if not topico:\n",
        "    print(\"Você esqueceu de digitar o setor ou empresa!\")\n",
        "else:\n",
        "    print(f\"Maravilha! Vamos verificar as melhores possibilidades de investimentos no setor relacionado a {topico}\")\n",
        "\n",
        "    coleta_de_dados = agente_coletor(topico, data_de_hoje)\n",
        "    print(\"\\n--- 📝 Resultado do Agente 1 (Coletor de Dados) ---\\n\")\n",
        "    display(to_markdown(coleta_de_dados))\n",
        "    print(\"--------------------------------------------------------------\")\n",
        "\n",
        "    analise_macro = agente_analista_macro(topico, coleta_de_dados)\n",
        "    print(\"\\n--- 📝 Resultado do Agente 2 (Analista Macroeconomico) ---\\n\")\n",
        "    display(to_markdown(analise_macro))\n",
        "    print(\"--------------------------------------------------------------\")\n",
        "\n",
        "    analise_micro = agente_analista_micro(topico, coleta_de_dados)\n",
        "    print(\"\\n--- 📝 Resultado do Agente 3 (Analista Microeconomico) ---\\n\")\n",
        "    display(to_markdown(analise_micro))\n",
        "    print(\"--------------------------------------------------------------\")\n",
        "\n",
        "\n",
        "    analise_final = agente_analista_cenarios(topico, coleta_de_dados, analise_macro, analise_micro)\n",
        "    print(\"\\n--- 📝 Resultado do Agente 4 (Analista de Cenarios) ---\\n\")\n",
        "    display(to_markdown(analise_final))\n",
        "    print(\"--------------------------------------------------------------\")\n",
        "\n",
        "    fundamentalista = agente_analista_fundamentalista(topico, analise_macro, analise_micro, analise_final)\n",
        "    print(\"\\n--- 📝 Resultado do Agente 5 (Analista Fundamentalista) ---\\n\")\n",
        "    display(to_markdown(fundamentalista))\n",
        "    print(\"--------------------------------------------------------------\")\n",
        "\n",
        "    avaliador = agente_avaliador(topico, analise_macro, analise_micro, analise_final, fundamentalista)\n",
        "    print(\"\\n--- 📝 Resultado do Agente 6 (Avaliador de Investimentos) ---\\n\")\n",
        "    display(to_markdown(avaliador))\n",
        "    print(\"--------------------------------------------------------------\")"
      ],
      "metadata": {
        "colab": {
          "base_uri": "https://localhost:8080/",
          "height": 1000
        },
        "id": "HtPDuh3y06M9",
        "outputId": "9469f810-2155-430c-c5e2-b0322d2d2604"
      },
      "execution_count": null,
      "outputs": [
        {
          "output_type": "stream",
          "name": "stdout",
          "text": [
            "🚀 Iniciando SAAI (Sistema de Avaliação Avançada de Investimentos) 🚀\n",
            "❓ Por favor, digite o setor ou empresa sobre o qual você gostaria de conhecer sobre investimentos: Energia Renovavel\n",
            "Maravilha! Vamos verificar as melhores possibilidades de investimentos no setor relacionado a Energia Renovavel\n",
            "\n",
            "--- 📝 Resultado do Agente 1 (Coletor de Dados) ---\n",
            "\n"
          ]
        },
        {
          "output_type": "display_data",
          "data": {
            "text/plain": [
              "<IPython.core.display.Markdown object>"
            ],
            "text/markdown": "> Certo, analisarei o setor de energia renovável e coletarei dados fundamentalistas de empresas, commodities, fundos imobiliários e outros ativos financeiros relacionados, tanto no Brasil quanto no exterior. Priorizarei dados quantitativos e sistemáticos, buscando informações sobre lucratividade, endividamento, eficiência, rentabilidade, valuation, balanço patrimonial, crescimento e projeções futuras, sempre com uma margem de segurança.\n> \n> Para começar, preciso realizar algumas pesquisas no Google. Aqui estão algumas perguntas que farei:\n> \n> \n> Com base nas pesquisas realizadas, compilei uma lista inicial de empresas, commodities, fundos imobiliários e outros ativos financeiros relevantes para o setor de energia renovável, juntamente com justificativas e dados coletados.\n> \n> **Empresas Brasileiras:**\n> \n> 1.  **Eletrobras (ELET3):** A maior empresa de energia elétrica da América Latina, com foco em fontes renováveis e gestão de grandes usinas hidrelétricas. Apesar de ser recém-privatizada, vem enfrentando dificuldades em reduzir seus índices de alavancagem e melhorar seus resultados de forma mais expressiva. Em 2024, pagou R$ 1,3 bilhão em dividendos, com um dividend yield de 3,7%.\n> 2.  **Cemig (CMIG4):** Uma das maiores empresas de energia do Brasil, atuando em geração, transmissão, distribuição e comercialização de energia elétrica, com forte presença em Minas Gerais e foco em fontes renováveis. Apesar de ser uma companhia estatal, a Cemig vem mitigando os riscos de ingerência e entregando resultados crescentes nos últimos anos. Em 2024, pagou R$ 3,9 bilhões em dividendos, com um dividend yield de 12,3%.\n> 3.  **Engie Brasil (EGIE3):** Uma das principais empresas do setor de energia renovável, com forte presença na geração e distribuição de eletricidade no país. Apresenta um ROE de 37,98%, refletindo sua alta rentabilidade. Em 2024, pagou R$ 1,9 bilhão em dividendos, com um dividend yield de 7,6%.\n> 4.  **CPFL Energia (CPFE3):** Empresa com foco em geração de energia renovável, principalmente hidrelétrica, eólica e solar. Em 2024, pagou R$ 4,4 bilhões em dividendos, com um dividend yield de 8,6%.\n> 5.  **Taesa (TAEE11):** Uma das maiores empresas de transmissão de energia do Brasil, especializada na construção, operação e manutenção de linhas e subestações elétricas, com atuação em diversas regiões do país. O segmento de transmissão é mais sólido e previsível do setor energético, em função de seus contratos de longo prazo e correções anuais por índices inflacionários.\n> 6.  **Equatorial Energia (EQTL3):** Empresa com atuação em distribuição de energia elétrica em diversas regiões do Brasil, com foco em eficiência operacional e expansão da base de clientes. Em 2024, pagou R$ 1,4 bilhão em dividendos, com um dividend yield de 1,6%.\n> 7.  **Neoenergia (NEOE3):** Empresa com atuação em geração, transmissão, distribuição e comercialização de energia elétrica, com foco em fontes renováveis e expansão da base de clientes. Em 2024, pagou R$ 1,4 bilhão em dividendos, com um dividend yield de 3,7%.\n> 8.  **Energisa (ENGI11):** Empresa com atuação em distribuição de energia elétrica em diversas regiões do Brasil, com foco em eficiência operacional e expansão da base de clientes. Em 2024, pagou R$ 1,4 bilhão em dividendos, com um dividend yield de 2,7%.\n> 9.  **Alupar (ALUP11):** Empresa com atuação em transmissão de energia elétrica, com foco em contratos de longo prazo e receita previsível.\n> 10. **Auren Energia (AURE3):** Companhia focada em geração de energia renovável, com um portfólio diversificado de ativos eólicos, hidrelétricos e solares.\n> \n> **Empresas Internacionais:**\n> \n> 1.  **China Yangtze Power:** A maior empresa de energia elétrica da China e a maior empresa hidrelétrica do mundo, com 71.7 GW de capacidade total instalada.\n> 2.  **Vestas Wind Systems:** Fabricante dinamarquesa de turbinas eólicas, líder global no setor.\n> 3.  **First Solar:** A maior fabricante de painéis solares nos EUA e em todo o hemisfério ocidental, com unidades de fabricação nos EUA, Malásia e Vietnã.\n> 4.  **Enphase Energy:** Empresa americana especializada em microinversores para sistemas de energia solar.\n> 5.  **Orsted:** Empresa dinamarquesa líder mundial em energia eólica offshore.\n> 6.  **NextEra Energy:** Empresa americana de energia com um portfólio diversificado de ativos de geração, incluindo energia eólica, solar e nuclear.\n> 7.  **Iberdrola:** Empresa espanhola de energia com forte presença em energias renováveis, principalmente eólica e hidrelétrica.\n> 8.  **Brookfield Renewable Partners:** Empresa canadense com um portfólio diversificado de ativos de energia renovável em todo o mundo.\n> 9.  **Siemens Gamesa Renewable Energy:** Fabricante espanhola de turbinas eólicas.\n> 10. **SunPower:** Empresa americana de energia solar com foco em soluções residenciais e comerciais.\n> \n> **Commodities:**\n> \n> 1.  **Lítio:** Metal essencial para a produção de baterias para veículos elétricos e sistemas de armazenamento de energia.\n> 2.  **Cobalto:** Metal essencial para a produção de baterias para veículos elétricos e sistemas de armazenamento de energia.\n> 3.  **Níquel:** Metal essencial para a produção de baterias para veículos elétricos e sistemas de armazenamento de energia.\n> 4.  **Silício:** Utilizado na fabricação de painéis solares.\n> 5.  **Cobre:** Utilizado em cabos e equipamentos elétricos para transmissão de energia.\n> 6.  **Alumínio:** Utilizado em estruturas para painéis solares e turbinas eólicas.\n> 7.  **Terras Raras:** Utilizadas na fabricação de ímãs para turbinas eólicas.\n> 8.  **Etanol:** Combustível renovável produzido a partir de biomassa.\n> 9.  **Biodiesel:** Combustível renovável produzido a partir de óleos vegetais e gorduras animais.\n> 10. **Madeira:** Utilizada como biomassa para geração de energia.\n> \n> **Fundos Imobiliários (FIIs):**\n> \n> 1.  **SNEL11 (Suno Energias Limpas):** Fundo imobiliário que investe em energias limpas e renováveis, sendo uma maneira inovadora e democrática para o investidor comum ter acesso a uma tese que, além de extremamente lucrativa, gera impacto positivo para a sociedade. Em maio de 2025, a cotação era de R$ 8,55, com um último rendimento de R$ 0,10 por cota (dividend yield de 14,07% nos últimos 12 meses).\n> 2.  **RENV11 (CPV Energia FII):** Fundo imobiliário focado em energia renovável, com o objetivo de aproveitar o crescente interesse dos investidores por projetos sustentáveis. O fundo investe em usinas solares já em operação.\n> \n> **Outros Ativos Financeiros:**\n> \n> *   **Títulos Verdes (Green Bonds):** Títulos de dívida emitidos para financiar projetos com benefícios ambientais e sociais.\n> *   **ETFs de Energia Limpa:** Fundos de índice que replicam o desempenho de carteiras de ações de empresas do setor de energia renovável.\n> \n> **Análise Adicional:**\n> \n> *   **Crescimento do Setor:** O setor de energia renovável está em constante crescimento, impulsionado pela crescente demanda por fontes de energia limpa e pela redução dos custos de tecnologias como a solar e a eólica.\n> *   **Incentivos Governamentais:** Muitos países oferecem incentivos fiscais e subsídios para projetos de energia renovável, o que pode aumentar a rentabilidade dos investimentos.\n> *   **Riscos:** Os investimentos em energia renovável estão sujeitos a riscos como a volatilidade dos preços das commodities, a intermitência das fontes renováveis (solar e eólica) e as mudanças regulatórias.\n> \n> **Próximos Passos:**\n> \n> *   Realizar uma análise mais aprofundada dos dados financeiros e das perspectivas de crescimento de cada empresa e ativo listado.\n> *   Avaliar os riscos e oportunidades de cada investimento, levando em consideração o perfil de risco do investidor.\n> *   Acompanhar de perto as notícias e os desenvolvimentos do setor de energia renovável.\n> \n> Espero que esta análise inicial seja útil. Se você tiver alguma dúvida ou precisar de mais informações, por favor, me avise.\n> \n"
          },
          "metadata": {}
        },
        {
          "output_type": "stream",
          "name": "stdout",
          "text": [
            "--------------------------------------------------------------\n",
            "\n",
            "--- 📝 Resultado do Agente 2 (Analista Macroeconomico) ---\n",
            "\n"
          ]
        },
        {
          "output_type": "display_data",
          "data": {
            "text/plain": [
              "<IPython.core.display.Markdown object>"
            ],
            "text/markdown": "> Com certeza! Para fornecer uma análise abrangente e útil, vou seguir os seguintes passos:\n> \n> 1.  **Análise Macroeconômica:** Utilizarei o Google para pesquisar o cenário macroeconômico atual (juros, inflação, PIB, cenário global, política monetária, etc.) e identificar os pontos mais relevantes que podem impactar o setor de energia renovável.\n> 2.  **Cruzamento de Referências:** Cruzarei as informações macroeconômicas com os dados das empresas, commodities e outros ativos financeiros listados, identificando como cada um pode ser afetado.\n> 3.  **Notícias Relevantes:** Buscarei as duas notícias mais relevantes para cada ativo analisado.\n> \n> Em seguida, apresentarei a lista de análises detalhadas.\n> \n> \n> Com base nas pesquisas realizadas, aqui está uma análise macroeconômica do setor de energia renovável, juntamente com as notícias mais relevantes para cada ativo listado:\n> \n> **Análise Macroeconômica**\n> \n> *   **Cenário Global:**\n>     *   Em 2024, o crescimento global se manteve resiliente, enquanto a inflação recuou. Espera-se estabilidade no crescimento mundial e continuidade na redução da inflação em 2025 (Portal Gov.br). No entanto, existem riscos como a fragmentação comercial devido a tarifas impostas pelos EUA (Portal Gov.br, CNN Brasil).\n>     *   O FMI projeta um crescimento global de 2,7% em 2025-26, mas adverte que a economia global parece estar se acomodando em baixos índices de crescimento (World Bank).\n>     *   A Fitch cortou a projeção para o crescimento do PIB global em 2025 para 2,3%, citando a guerra comercial (CNN Brasil).\n>     *   O aumento das tarifas de comércio pelos EUA representa um choque negativo com impacto estagflacionário sobre a economia americana, gerando preocupações sobre uma recessão global (Itau).\n> \n> *   **Cenário Brasil:**\n>     *   O Boletim Focus estima um crescimento de 2% para o Brasil em 2025, enquanto o FMI revisou sua projeção para 2,5% (CNN Brasil). No entanto, há sinais de desaceleração e empresários hesitam em acelerar investimentos devido ao aumento do custo do dinheiro (CNN Brasil).\n>     *   O FMI reduziu as projeções de crescimento do Brasil para 2,0% em 2025 e 2026 (CNN Brasil).\n>     *   A inflação no Brasil deve se manter em 4,8% em 2025, impactada por efeitos defasados da depreciação cambial e pela inércia (Portal Gov.br). O FMI calcula que a inflação ficará em 5,3% este ano e 4,3% no próximo (CNN Brasil).\n>     *   A política monetária restritiva do Banco Central para controlar a inflação pode afetar o crédito (CNN Brasil). A perspectiva para a taxa básica de juros (Selic) para o final de 2025 é de 12,15% (Portal Solar).\n>     *   O mercado de câmbio brasileiro enfrentou uma desvalorização significativa em 2024, com o dólar encerrando o ano em R$ 6,18, uma alta de cerca de 27% em relação ao início do período (CNN Brasil).\n> \n> *   **Impacto no Setor de Energia Renovável:**\n> \n>     *   A energia limpa foi responsável por 10% do crescimento do PIB mundial em 2023 (Portal Gov.br, Grupo Quanta, ABSOLAR). As energias renováveis adicionaram cerca de US$ 320 bilhões à economia mundial (Grupo Quanta).\n>     *   Espera-se que os investimentos em energias renováveis ultrapassem a marca de US$ 2 trilhões em 2025 (Quinto Energy).\n>     *   O aumento do imposto de importação de painéis solares, combinado com a alta taxa de juros, pode criar um cenário adverso para o mercado brasileiro de energia solar (Portal Solar).\n>     *   A transição energética deve abranger o setor financeiro e os bancos centrais (ECO). A política monetária também tem que ser verde (ECO).\n>     *   O BCE entende que a variação das taxas de juro de referência interfere na generalidade das restantes taxas de juro, o que influencia os preços e a inflação. Se o objetivo é reduzir a inflação e as expetativas inflacionárias, o banco central sobe os juros, e vice-versa (ECO).\n>     *   A subida das taxas de juro pode deteriorar ou inviabilizar financeiramente projetos de energias renováveis (ECO).\n>     *   As energias renováveis são mais competitivas quando as taxas de juro são baixas (BCE).\n>     *   A reforma do setor elétrico pode impactar a inflação, com análises apontando aumento no custo da indústria (eixos).\n>     *   A energia renovável depende de crédito competitivo para deslanchar (CNA).\n> *Tendências do Setor de Energia Renovável para 2025 (Amara NZero, Quinto Energy, Exame, Energy Libra):\n>     *Expansão da energia eólica e novos modelos de operação.\n>     *Foco na geração distribuída de energia solar e soluções com baterias.\n>     *Aumento nos contratos de compra de energia (PPAs) de fontes solares e eólicas.\n>     *Leilões de energia no Brasil devem aumentar investimentos e lançar o mercado de armazenamento de baterias.\n> \n> **Análise por Ativo**\n> \n> **Empresas Brasileiras**\n> \n> 1.  **Eletrobras (ELET3):**\n>     *   **Notícia 1:** Eletrobras pagou R$ 1,3 bilhão em dividendos em 2024, com um dividend yield de 3,7%.\n>     *   **Notícia 2:** A empresa enfrenta dificuldades em reduzir seus índices de alavancagem e melhorar seus resultados de forma mais expressiva.\n> 2.  **Cemig (CMIG4):**\n>     *   **Notícia 1:** Cemig pagou R$ 3,9 bilhões em dividendos em 2024, com um dividend yield de 12,3%.\n>     *   **Notícia 2:** Apesar de ser uma companhia estatal, a Cemig vem mitigando os riscos de ingerência e entregando resultados crescentes nos últimos anos.\n> 3.  **Engie Brasil (EGIE3):**\n>     *   **Notícia 1:** Engie Brasil apresenta um ROE de 37,98%, refletindo sua alta rentabilidade.\n>     *   **Notícia 2:** Em 2024, pagou R$ 1,9 bilhão em dividendos, com um dividend yield de 7,6%.\n> 4.  **CPFL Energia (CPFE3):**\n>     *   **Notícia 1:** Em 2024, pagou R$ 4,4 bilhões em dividendos, com um dividend yield de 8,6%.\n>     *   **Notícia 2:** Foco em geração de energia renovável, principalmente hidrelétrica, eólica e solar.\n> 5.  **Taesa (TAEE11):**\n>     *   **Notícia 1:** Especializada na construção, operação e manutenção de linhas e subestações elétricas.\n>     *   **Notícia 2:** O segmento de transmissão é mais sólido e previsível do setor energético, em função de seus contratos de longo prazo e correções anuais por índices inflacionários.\n> 6.  **Equatorial Energia (EQTL3):**\n>     *   **Notícia 1:** Em 2024, pagou R$ 1,4 bilhão em dividendos, com um dividend yield de 1,6%.\n>     *   **Notícia 2:** Atuação em distribuição de energia elétrica em diversas regiões do Brasil, com foco em eficiência operacional e expansão da base de clientes.\n> 7.  **Neoenergia (NEOE3):**\n>     *   **Notícia 1:** Em 2024, pagou R$ 1,4 bilhão em dividendos, com um dividend yield de 3,7%.\n>     *   **Notícia 2:** Atuação em geração, transmissão, distribuição e comercialização de energia elétrica, com foco em fontes renováveis e expansão da base de clientes.\n> 8.  **Energisa (ENGI11):**\n>     *   **Notícia 1:** Em 2024, pagou R$ 1,4 bilhão em dividendos, com um dividend yield de 2,7%.\n>     *   **Notícia 2:** Atuação em distribuição de energia elétrica em diversas regiões do Brasil, com foco em eficiência operacional e expansão da base de clientes.\n> 9.  **Alupar (ALUP11):**\n>     *   **Notícia 1:** Atuação em transmissão de energia elétrica, com foco em contratos de longo prazo e receita previsível.\n>     *   **Notícia 2:** *Não foram encontradas notícias recentes específicas.*\n> 10. **Auren Energia (AURE3):**\n>     *   **Notícia 1:** Companhia focada em geração de energia renovável, com um portfólio diversificado de ativos eólicos, hidrelétricos e solares.\n>     *   **Notícia 2:** *Não foram encontradas notícias recentes específicas.*\n> \n> **Empresas Internacionais**\n> \n> *   Devido à dificuldade em encontrar notícias específicas e relevantes para cada empresa internacional listada, apresentarei notícias genéricas sobre o setor que podem impactar essas empresas:\n> \n>     *   **Notícia 1:** Transição para energias renováveis ganha força globalmente, impulsionada por políticas de descarbonização e investimentos em tecnologias limpas (Quinto Energy, Energy Libra).\n>     *   **Notícia 2:** Tensões comerciais e tarifas impostas pelos EUA podem impactar negativamente o comércio internacional e a cadeia de suprimentos de empresas do setor (Itau).\n> \n> **Commodities**\n> \n> 1.  **Lítio, Cobalto e Níquel:**\n>     *   **Notícia 1:** A demanda por esses metais continua a crescer devido à expansão da produção de baterias para veículos elétricos e sistemas de armazenamento de energia.\n>     *   **Notícia 2:** A volatilidade dos preços dessas commodities pode afetar a rentabilidade de projetos de energia renovável (relacionado com baterias).\n> 2.  **Silício:**\n>     *   **Notícia 1:** Utilizado na fabricação de painéis solares, com demanda crescente impulsionada pela expansão da energia solar fotovoltaica.\n>     *   **Notícia 2:** *Não foram encontradas notícias recentes específicas.*\n> 3.  **Cobre e Alumínio:**\n>     *   **Notícia 1:** Utilizados em cabos e equipamentos elétricos para transmissão de energia.\n>     *   **Notícia 2:** *Não foram encontradas notícias recentes específicas.*\n> 4.  **Terras Raras:**\n>     *   **Notícia 1:** Utilizadas na fabricação de ímãs para turbinas eólicas.\n>     *   **Notícia 2:** *Não foram encontradas notícias recentes específicas.*\n> 5.  **Etanol e Biodiesel:**\n>     *   **Notícia 1:** Combustíveis renováveis produzidos a partir de biomassa.\n>     *   **Notícia 2:** *Não foram encontradas notícias recentes específicas.*\n> 6.  **Madeira:**\n>     *   **Notícia 1:** Utilizada como biomassa para geração de energia.\n>     *   **Notícia 2:** *Não foram encontradas notícias recentes específicas.*\n> \n> **Fundos Imobiliários (FIIs)**\n> \n> 1.  **SNEL11 (Suno Energias Limpas):**\n>     *   **Notícia 1:** Em maio de 2025, a cotação era de R$ 8,55, com um último rendimento de R$ 0,10 por cota (dividend yield de 14,07% nos últimos 12 meses).\n>     *   **Notícia 2:** Fundo imobiliário que investe em energias limpas e renováveis, sendo uma maneira inovadora e democrática para o investidor comum ter acesso a uma tese que, além de extremamente lucrativa, gera impacto positivo para a sociedade.\n> 2.  **RENV11 (CPV Energia FII):**\n>     *   **Notícia 1:** Fundo imobiliário focado em energia renovável, com o objetivo de aproveitar o crescente interesse dos investidores por projetos sustentáveis.\n>     *   **Notícia 2:** O fundo investe em usinas solares já em operação.\n> \n> **Outros Ativos Financeiros**\n> \n> *   **Títulos Verdes (Green Bonds):**\n> \n>     *   **Notícia 1:** Títulos de dívida emitidos para financiar projetos com benefícios ambientais e sociais.\n>     *   **Notícia 2:** *Não foram encontradas notícias recentes específicas.*\n> \n> *   **ETFs de Energia Limpa:**\n> \n>     *   **Notícia 1:** Fundos de índice que replicam o desempenho de carteiras de ações de empresas do setor de energia renovável.\n>     *   **Notícia 2:** *Não foram encontradas notícias recentes específicas.*\n> \n> **Considerações Finais**\n> \n> O setor de energia renovável apresenta um grande potencial de crescimento, impulsionado pela demanda por energia limpa e pela redução dos custos de tecnologias como a solar e a eólica. No entanto, os investidores devem estar atentos aos riscos macroeconômicos, como a inflação, as taxas de juros e as tensões comerciais, que podem afetar a rentabilidade dos investimentos.\n> \n> É importante realizar uma análise mais aprofundada dos dados financeiros e das perspectivas de crescimento de cada empresa e ativo listado, além de avaliar os riscos e oportunidades de cada investimento, levando em consideração o perfil de risco do investidor.\n> \n"
          },
          "metadata": {}
        },
        {
          "output_type": "stream",
          "name": "stdout",
          "text": [
            "--------------------------------------------------------------\n",
            "\n",
            "--- 📝 Resultado do Agente 3 (Analista Microeconomico) ---\n",
            "\n"
          ]
        },
        {
          "output_type": "display_data",
          "data": {
            "text/plain": [
              "<IPython.core.display.Markdown object>"
            ],
            "text/markdown": "> Com certeza! Com base nos dados que você forneceu, vou realizar uma análise microeconômica do setor de energia renovável, buscando informações relevantes para cada ativo listado e relacionando notícias importantes.\n> \n> \n> Com certeza! Aqui está uma análise microeconômica do setor de energia renovável e informações relevantes sobre os ativos listados, juntamente com notícias importantes:\n> \n> **Análise Microeconômica do Setor de Energia Renovável no Brasil**\n> \n> *   **Crescimento:** O setor está em expansão, impulsionado pela demanda por energia limpa e custos decrescentes de tecnologias como solar e eólica. Muitos países estão oferecendo incentivos fiscais e subsídios para projetos de energia renovável, aumentando a rentabilidade dos investimentos.\n> \n> *   **Concorrência:** O mercado brasileiro de energia renovável é competitivo, com empresas nacionais e internacionais disputando projetos. A concorrência acirrada pode levar a preços mais baixos e inovação, mas também pode pressionar as margens de lucro.\n> \n> *   **Regulamentação:** O setor é fortemente regulamentado, com regras específicas para geração, transmissão e distribuição de energia. Mudanças regulatórias podem afetar os investimentos e a rentabilidade das empresas.\n> \n> *   **Cadeia Produtiva:** A cadeia produtiva de energia renovável envolve diversos setores, desde a fabricação de equipamentos até a instalação e operação de usinas. A eficiência e a integração da cadeia produtiva são importantes para reduzir custos e aumentar a competitividade.\n> \n> *   **Inovação:** A inovação é fundamental para o desenvolvimento do setor de energia renovável, com novas tecnologias e modelos de negócios surgindo constantemente. Empresas que investem em inovação têm maior potencial de crescimento e rentabilidade.\n> \n> **Análise de Empresas Brasileiras**\n> \n> 1.  **Eletrobras (ELET3):**\n>     *   **Microeconomia:** A Eletrobras, mesmo após a privatização, ainda enfrenta desafios para otimizar sua estrutura de capital e aumentar a eficiência operacional. A concorrência no setor de geração e transmissão de energia é um fator importante.\n>     *   **Notícias Relevantes:**\n>         *   A Eletrobras oferece a pequenas empresas do Rio de Janeiro oportunidades de capacitação e desenvolvimento.\n>         *   Privatização da Eletrobras pode destinar mais de R$ 100 bilhões aos cofres públicos.\n> 2.  **Cemig (CMIG4):**\n>     *   **Microeconomia:** A Cemig tem mitigado os riscos de ingerência estatal e entregado resultados crescentes. A empresa se beneficia da sua forte presença em Minas Gerais e do foco em fontes renováveis.\n>     *   **Notícias Relevantes:**\n>         *   A Cemig é reconhecida como uma das dez empresas mais sustentáveis da B3.\n>         *   A Cemig esclarece sobre a situação dos reservatórios de suas hidrelétricas em Minas Gerais, garantindo que operam dentro dos parâmetros normais de segurança.\n> 3.  **Engie Brasil (EGIE3):**\n>     *   **Microeconomia:** A Engie Brasil se destaca pela alta rentabilidade (ROE de 37,98%) e forte presença na geração e distribuição de eletricidade. A empresa se beneficia da sua expertise em energia renovável.\n>     *   **Notícias Relevantes:** Não foram encontradas notícias relevantes nos resultados da busca.\n> 4.  **CPFL Energia (CPFE3):**\n>     *   **Microeconomia:** A CPFL Energia se concentra na geração de energia renovável, principalmente hidrelétrica, eólica e solar. A empresa se beneficia dos incentivos governamentais para projetos de energia renovável.\n>     *   **Notícias Relevantes:** Não foram encontradas notícias relevantes nos resultados da busca.\n> 5.  **Taesa (TAEE11):**\n>     *   **Microeconomia:** A Taesa atua no segmento de transmissão de energia, que é mais sólido e previsível devido aos contratos de longo prazo e correções inflacionárias. A empresa se beneficia da crescente demanda por transmissão de energia no Brasil.\n>     *   **Notícias Relevantes:** Não foram encontradas notícias relevantes nos resultados da busca.\n> 6.  **Equatorial Energia (EQTL3):**\n>     *   **Microeconomia:** A Equatorial Energia atua na distribuição de energia elétrica, com foco em eficiência operacional e expansão da base de clientes. A empresa se beneficia do crescimento do consumo de energia no Brasil.\n>     *   **Notícias Relevantes:**\n>         *   A Equatorial Energia informa a venda de ativos de transmissão à Verene.\n>         *   A Equatorial Energia registra lucro líquido de R$ 411 milhões no 1º trimestre, com queda de 16,4% em um ano.\n> 7.  **Neoenergia (NEOE3):**\n>     *   **Microeconomia:** A Neoenergia atua em toda a cadeia de valor do setor elétrico, com foco em fontes renováveis e expansão da base de clientes. A empresa se beneficia da sua expertise em energia renovável e da sua presença em diversas regiões do Brasil.\n>     *   **Notícias Relevantes:**\n>         *   A Neoenergia conquista Prêmio Latam 2025 com projeto Voz do Cliente 360º.\n>         *   A Neoenergia e o Governo Federal do Brasil firmam um acordo para fornecer energia 100% renovável ao Palácio da Alvorada.\n> 8.  **Energisa (ENGI11):**\n>     *   **Microeconomia:** A Energisa atua na distribuição de energia elétrica, com foco em eficiência operacional e expansão da base de clientes. A empresa se beneficia do crescimento do consumo de energia no Brasil.\n>     *   **Notícias Relevantes:** Não foram encontradas notícias relevantes nos resultados da busca.\n> 9.  **Alupar (ALUP11):**\n>     *   **Microeconomia:** A Alupar atua na transmissão de energia elétrica, com foco em contratos de longo prazo e receita previsível. A empresa se beneficia da crescente demanda por transmissão de energia no Brasil.\n>     *   **Notícias Relevantes:** Não foram encontradas notícias relevantes nos resultados da busca.\n> 10. **Auren Energia (AURE3):**\n>     *   **Microeconomia:** A Auren Energia se concentra na geração de energia renovável, com um portfólio diversificado de ativos eólicos, hidrelétricos e solares. A empresa se beneficia dos incentivos governamentais para projetos de energia renovável.\n>     *   **Notícias Relevantes:** Não foram encontradas notícias relevantes nos resultados da busca.\n> \n> **Análise de Empresas Internacionais**\n> \n> 1.  **China Yangtze Power:**\n>     *   **Microeconomia:** A China Yangtze Power se beneficia do forte crescimento da demanda por energia na China e do apoio governamental para projetos de energia renovável. A empresa enfrenta a concorrência de outras grandes empresas de energia na China.\n>     *   **Notícias Relevantes:** Não foram encontradas notícias relevantes nos resultados da busca.\n> 2.  **Vestas Wind Systems:**\n>     *   **Microeconomia:** A Vestas Wind Systems se beneficia do crescimento do mercado global de energia eólica e da sua liderança tecnológica. A empresa enfrenta a concorrência de outros fabricantes de turbinas eólicas.\n>     *   **Notícias Relevantes:** Não foram encontradas notícias relevantes nos resultados da busca.\n> 3.  **First Solar:**\n>     *   **Microeconomia:** A First Solar se beneficia do crescimento do mercado global de energia solar e da sua tecnologia de filme fino. A empresa enfrenta a concorrência de outros fabricantes de painéis solares, principalmente da China.\n>     *   **Notícias Relevantes:**\n>         *   A First Solar anuncia os resultados financeiros do primeiro trimestre de 2025 e revisa as projeções devido ao impacto da implementação de novas tarifas.\n>         *   A receita da First Solar fica aquém no terceiro trimestre e revisa a orientação de 2024 em meio a pressões do setor.\n> 4.  **Enphase Energy:**\n>     *   **Microeconomia:** A Enphase Energy se beneficia do crescimento do mercado de energia solar residencial e comercial e da sua tecnologia de microinversores. A empresa enfrenta a concorrência de outros fabricantes de inversores solares.\n>     *   **Notícias Relevantes:** Não foram encontradas notícias relevantes nos resultados da busca.\n> 5.  **Orsted:**\n>     *   **Microeconomia:** A Orsted se beneficia do crescimento do mercado de energia eólica offshore e da sua liderança nesse setor. A empresa enfrenta a concorrência de outras empresas de energia eólica offshore.\n>     *   **Notícias Relevantes:**\n>         *   Orsted conclui o maior parque eólico da Alemanha, mas a energia não tem para onde ir.\n> 6.  **NextEra Energy:**\n>     *   **Microeconomia:** A NextEra Energy se beneficia do seu portfólio diversificado de ativos de geração de energia, incluindo energia eólica, solar e nuclear. A empresa enfrenta a concorrência de outras grandes empresas de energia nos EUA.\n>     *   **Notícias Relevantes:** Não foram encontradas notícias relevantes nos resultados da busca.\n> 7.  **Iberdrola:**\n>     *   **Microeconomia:** A Iberdrola se beneficia da sua forte presença em energias renováveis, principalmente eólica e hidrelétrica, e da sua atuação em diversos países. A empresa enfrenta a concorrência de outras grandes empresas de energia na Europa e no mundo.\n>     *   **Notícias Relevantes:**\n>         *   A Neoenergia, filial da Iberdrola no Brasil, e o Governo Federal do Brasil firmam um acordo para fornecer energia 100% renovável ao Palácio da Alvorada.\n>         *   A Iberdrola Italia inaugura uma nova planta fotovoltaica.\n> 8.  **Brookfield Renewable Partners:**\n>     *   **Microeconomia:** A Brookfield Renewable Partners se beneficia do seu portfólio diversificado de ativos de energia renovável em todo o mundo. A empresa enfrenta a concorrência de outras empresas de energia renovável.\n>     *   **Notícias Relevantes:** Não foram encontradas notícias relevantes nos resultados da busca.\n> 9.  **Siemens Gamesa Renewable Energy:**\n>     *   **Microeconomia:** A Siemens Gamesa Renewable Energy se beneficia do crescimento do mercado global de energia eólica e da sua tecnologia de turbinas eólicas. A empresa enfrenta a concorrência de outros fabricantes de turbinas eólicas.\n>     *   **Notícias Relevantes:**\n>         *   A Siemens Gamesa reduz a afetação do ERE de 430 para 255 trabalhadores.\n>         *   Uma segunda pá da Siemens Gamesa quebra em turbina em parque eólico sueco, resultando no desligamento de mais 51 turbinas no local.\n> 10. **SunPower:**\n>     *   **Microeconomia:** A SunPower se beneficia do crescimento do mercado de energia solar residencial e comercial e da sua tecnologia de painéis solares de alta eficiência. A empresa enfrenta a concorrência de outros fabricantes de painéis solares.\n>     *   **Notícias Relevantes:** Não foram encontradas notícias relevantes nos resultados da busca.\n> \n> **Análise de Commodities**\n> \n> 1.  **Lítio, Cobalto, Níquel:**\n>     *   **Microeconomia:** Esses metais são essenciais para a produção de baterias para veículos elétricos e sistemas de armazenamento de energia. A demanda por esses metais está crescendo rapidamente, impulsionada pela eletrificação dos transportes e pela expansão das energias renováveis. A oferta desses metais é limitada, o que pode levar a preços mais altos.\n>     *   **Notícias Relevantes:** Não foram encontradas notícias relevantes nos resultados da busca.\n> 2.  **Silício:**\n>     *   **Microeconomia:** O silício é utilizado na fabricação de painéis solares. A demanda por silício está crescendo rapidamente, impulsionada pela expansão da energia solar. A oferta de silício é relativamente abundante, mas a produção de silício de alta pureza é um processo complexo e caro.\n>     *   **Notícias Relevantes:** Não foram encontradas notícias relevantes nos resultados da busca.\n> 3.  **Cobre, Alumínio:**\n>     *   **Microeconomia:** Esses metais são utilizados em cabos e equipamentos elétricos para transmissão de energia e em estruturas para painéis solares e turbinas eólicas. A demanda por esses metais está crescendo, impulsionada pela expansão das energias renováveis e pela eletrificação dos transportes. A oferta desses metais é relativamente abundante, mas a produção desses metais pode ter impactos ambientais significativos.\n>     *   **Notícias Relevantes:** Não foram encontradas notícias relevantes nos resultados da busca.\n> 4.  **Terras Raras:**\n>     *   **Microeconomia:** As terras raras são utilizadas na fabricação de ímãs para turbinas eólicas. A demanda por terras raras está crescendo, impulsionada pela expansão da energia eólica. A oferta de terras raras é concentrada em alguns países, o que pode levar a riscos geopolíticos.\n>     *   **Notícias Relevantes:** Não foram encontradas notícias relevantes nos resultados da busca.\n> 5.  **Etanol, Biodiesel, Madeira:**\n>     *   **Microeconomia:** Esses materiais são utilizados como combustíveis renováveis. A demanda por esses materiais está crescendo, impulsionada pela busca por alternativas aos combustíveis fósseis. A oferta desses materiais é limitada pela disponibilidade de biomassa e pela necessidade de garantir a sustentabilidade da produção.\n>     *   **Notícias Relevantes:**\n>         *   O etanol atinge a maior oferta da história em 2024.\n>         *   O etanol alcança recorde de consumo em 2024 e reforça a posição do Brasil em energia sustentável.\n> \n> **Análise de Fundos Imobiliários (FIIs)**\n> \n> 1.  **SNEL11 (Suno Energias Limpas):**\n>     *   **Microeconomia:** O SNEL11 investe em energias limpas e renováveis, oferecendo aos investidores acesso a um setor em crescimento. A rentabilidade do fundo depende do desempenho dos ativos investidos e da gestão da carteira.\n>     *   **Notícias Relevantes:**\n>         *   O SNEL11 bate recorde e alcança R$ 1,6 milhão de liquidez diária.\n>         *   Investidores do SNEL11 vão receber dividendos de 1,15% ao mês.\n> 2.  **RENV11 (CPV Energia FII):**\n>     *   **Microeconomia:** O RENV11 foca em energia renovável, aproveitando o interesse dos investidores por projetos sustentáveis. A rentabilidade do fundo depende do desempenho das usinas solares investidas.\n>     *   **Notícias Relevantes:** Não foram encontradas notícias relevantes nos resultados da busca.\n> \n> **Análise de Outros Ativos Financeiros**\n> \n> 1.  **Títulos Verdes (Green Bonds):**\n>     *   **Microeconomia:** Os títulos verdes são emitidos para financiar projetos com benefícios ambientais e sociais. A demanda por títulos verdes está crescendo, impulsionada pela crescente preocupação com a sustentabilidade. A rentabilidade dos títulos verdes depende do risco de crédito do emissor e das condições de mercado.\n>     *   **Notícias Relevantes:**\n>         *   Os títulos verdes têm novas regras a partir de março, visando maior transparência e credibilidade.\n>         *   O crescimento dos títulos ESG excederá novamente US$ 1 trilhão até 2025.\n> 2.  **ETFs de Energia Limpa:**\n>     *   **Microeconomia:** Os ETFs de energia limpa replicam o desempenho de carteiras de ações de empresas do setor de energia renovável. A rentabilidade dos ETFs depende do desempenho das empresas que compõem a carteira e das taxas de administração do fundo.\n>     *   **Notícias Relevantes:** Não foram encontradas notícias relevantes nos resultados da busca.\n> \n> Espero que esta análise detalhada seja útil. Se precisar de mais informações ou tiver outras perguntas, é só me avisar!\n> \n"
          },
          "metadata": {}
        },
        {
          "output_type": "stream",
          "name": "stdout",
          "text": [
            "--------------------------------------------------------------\n",
            "\n",
            "--- 📝 Resultado do Agente 4 (Analista de Cenarios) ---\n",
            "\n"
          ]
        },
        {
          "output_type": "display_data",
          "data": {
            "text/plain": [
              "<IPython.core.display.Markdown object>"
            ],
            "text/markdown": "> Excelente trabalho até aqui! Você construiu uma base sólida com a coleta e organização de dados macro e microeconômicos, além de identificar notícias relevantes. Agora, vamos usar essa base para criar cenários preditivos e análises de probabilidade, considerando o jogo de poder e o comportamento do mercado.\n> \n> **Estrutura da Análise Preditiva**\n> \n> Para cada ativo, vamos seguir esta estrutura:\n> \n> 1.  **Cenário Base (Mais Provável):**\n>     *   Descrição do cenário com base nas tendências atuais e projeções.\n>     *   Probabilidade estimada (ex: 60%).\n>     *   Como o ativo se comportaria nesse cenário (alta, baixa, estabilidade, e justificativa).\n>     *   Fatores-chave que influenciam esse cenário.\n> \n> 2.  **Cenário Otimista:**\n>     *   Descrição do cenário.\n>     *   Probabilidade estimada (ex: 25%).\n>     *   Como o ativo se comportaria nesse cenário.\n>     *   Fatores-chave que influenciam esse cenário.\n> \n> 3.  **Cenário Pessimista:**\n>     *   Descrição do cenário.\n>     *   Probabilidade estimada (ex: 15%).\n>     *   Como o ativo se comportaria nesse cenário.\n>     *   Fatores-chave que influenciam esse cenário.\n> \n> 4.  **Considerações sobre o \"Jogo de Poder\":**\n>     *   Como as decisões políticas, regulatórias e de grandes players (governos, empresas, etc.) podem influenciar os cenários.\n> \n> 5.  **Comportamento Atual do Mercado e Resalvas:**\n>     *   Análise do comportamento recente do mercado em relação ao ativo.\n>     *   Identificação de possíveis \"cisnes negros\" ou eventos improváveis que poderiam alterar drasticamente os cenários.\n> \n> **Exemplo Detalhado: Eletrobras (ELET3)**\n> \n> Vamos começar com a Eletrobras (ELET3) para ilustrar como aplicar essa estrutura.\n> \n> **1. Cenário Base (Mais Provável): Continuação da Otimização Pós-Privatização com Desafios**\n> \n> *   **Descrição:** A Eletrobras continua implementando melhorias operacionais e financeiras após a privatização, buscando aumentar a eficiência e reduzir o endividamento. No entanto, enfrenta desafios significativos, como a necessidade de grandes investimentos em infraestrutura, a volatilidade do mercado de energia e a concorrência acirrada. A empresa consegue gerar valor, mas a um ritmo mais lento do que o inicialmente esperado pelo mercado.\n> *   **Probabilidade Estimada:** 60%\n> *   **Comportamento do Ativo:** *Estabilidade com viés de alta moderada.* A ação deve apresentar uma valorização gradual, impulsionada pela melhora nos resultados e pela percepção de menor risco político após a privatização. No entanto, a alta será limitada pela cautela dos investidores em relação ao ritmo de recuperação da empresa e à sua capacidade de competir no mercado.\n> *   **Fatores-Chave:**\n>     *   Sucesso na implementação do plano de reestruturação.\n>     *   Crescimento da demanda por energia no Brasil.\n>     *   Estabilidade macroeconômica e política.\n>     *   Preços da energia no mercado spot (PLD).\n> \n> **2. Cenário Otimista: Aceleração da Reestruturação e Novos Investimentos**\n> \n> *   **Descrição:** A Eletrobras supera as expectativas na implementação do plano de reestruturação, conseguindo reduzir o endividamento mais rapidamente e aumentar a eficiência operacional. A empresa anuncia novos investimentos significativos em projetos de energia renovável, aproveitando o crescimento do setor e os incentivos governamentais.\n> *   **Probabilidade Estimada:** 25%\n> *   **Comportamento do Ativo:** *Alta Significativa.* A ação tem um forte rally, impulsionado pela melhora nos resultados, pelos novos investimentos e pelo aumento do interesse dos investidores. A empresa se torna um player importante no setor de energia renovável, gerando valor para os acionistas.\n> *   **Fatores-Chave:**\n>     *   Implementação bem-sucedida do plano de reestruturação.\n>     *   Leilões de energia favoráveis à Eletrobras.\n>     *   Aprovação de novas leis e regulamentações que beneficiem o setor de energia renovável.\n>     *   Entrada de novos investidores estratégicos na empresa.\n> \n> **3. Cenário Pessimista: Dificuldades na Reestruturação e Intervenção Política**\n> \n> *   **Descrição:** A Eletrobras enfrenta dificuldades na implementação do plano de reestruturação, com atrasos, custos inesperados e resistência de sindicatos e outros stakeholders. Há um aumento da interferência política na empresa, com o governo buscando influenciar as decisões e nomear aliados para cargos-chave.\n> *   **Probabilidade Estimada:** 15%\n> *   **Comportamento do Ativo:** *Queda.* A ação entra em um ciclo de baixa, penalizada pela piora nos resultados, pelo aumento do risco político e pela desconfiança dos investidores. A empresa perde competitividade e se torna um alvo de críticas e investigações.\n> *   **Fatores-Chave:**\n>     *   Atrasos ou falhas na implementação do plano de reestruturação.\n>     *   Mudanças na legislação que prejudiquem a Eletrobras.\n>     *   Crises políticas ou econômicas que afetem o setor de energia.\n>     *   Novas denúncias de corrupção ou má gestão na empresa.\n> \n> **4. Considerações sobre o \"Jogo de Poder\":**\n> \n> *   O governo (atual e futuros) tem o poder de influenciar a Eletrobras por meio de regulamentações, políticas setoriais e indicações para o Conselho de Administração.\n> *   Grandes investidores (fundos de pensão, investidores estrangeiros) podem pressionar a empresa por melhores resultados e governança.\n> *   Sindicatos e outros grupos de interesse podem defender seus interesses, buscando manter empregos e benefícios.\n> \n> **5. Comportamento Atual do Mercado e Resalvas:**\n> \n> *   A ação da Eletrobras tem apresentado volatilidade, refletindo as incertezas em relação ao futuro da empresa.\n> *   Um \"cisne negro\" seria uma crise política ou econômica que afetasse o setor de energia, ou uma descoberta de irregularidades graves na empresa.\n> \n> **Próximos Passos**\n> \n> 1.  **Aplique essa estrutura para cada um dos ativos listados:** Cemig, Engie Brasil, CPFL Energia, Taesa, Equatorial Energia, Neoenergia, Energisa, Alupar, Auren Energia, empresas internacionais, commodities, FIIs e outros ativos.\n> 2.  **Seja específico:** Use os dados e notícias que você já coletou para embasar suas análises.\n> 3.  **Seja realista:** As probabilidades devem refletir a sua melhor avaliação da situação atual e das perspectivas futuras.\n> 4.  **Mantenha-se atualizado:** O mercado e o cenário econômico estão em constante mudança, por isso é importante revisar suas análises periodicamente.\n> \n> Ao concluir essa análise detalhada para cada ativo, você terá uma visão abrangente e estratégica do setor de energia renovável, que poderá ser usada para tomar decisões de investimento mais informadas e eficazes.\n> \n> Lembre-se de que este é um processo iterativo. À medida que novas informações surgem, você deve ajustar suas análises e probabilidades.\n> \n"
          },
          "metadata": {}
        },
        {
          "output_type": "stream",
          "name": "stdout",
          "text": [
            "--------------------------------------------------------------\n",
            "\n",
            "--- 📝 Resultado do Agente 5 (Analista Fundamentalista) ---\n",
            "\n"
          ]
        },
        {
          "output_type": "display_data",
          "data": {
            "text/plain": [
              "<IPython.core.display.Markdown object>"
            ],
            "text/markdown": "> Com certeza! Para dar continuidade à análise preditiva do setor de energia renovável, vou aplicar a estrutura proposta para cada um dos ativos listados, detalhando cenários, probabilidades, fatores-chave, considerações sobre o \"jogo de poder\" e o comportamento atual do mercado.\n> \n> **1. Cemig (CMIG4)**\n> \n> *   **Cenário Base (60%): Crescimento Sustentável com Desafios Regulatórios**\n>     *   **Descrição:** A Cemig continua a apresentar resultados crescentes, mitigando riscos de ingerência estatal. A empresa foca na expansão de projetos de energia renovável e na modernização de sua infraestrutura. No entanto, enfrenta desafios regulatórios e a necessidade de equilibrar os interesses de seus acionistas com as demandas do governo estadual.\n>     *   **Comportamento do Ativo:** *Estabilidade com viés de alta moderada.* A ação deve apresentar uma valorização gradual, impulsionada pela melhora nos resultados e pela percepção de menor risco político. No entanto, a alta será limitada pela cautela dos investidores em relação às incertezas regulatórias.\n>     *   **Fatores-Chave:**\n>         *   Implementação bem-sucedida de projetos de energia renovável.\n>         *   Resolução de questões regulatórias pendentes.\n>         *   Crescimento da demanda por energia em Minas Gerais.\n> *   **Cenário Otimista (25%): Expansão Acelerada e Reconhecimento de Valor**\n>     *   **Descrição:** A Cemig acelera sua expansão em energias renováveis, com novos projetos e parcerias estratégicas. A empresa é reconhecida pelo mercado como um player importante no setor, com potencial de crescimento e geração de valor.\n>     *   **Comportamento do Ativo:** *Alta Significativa.* A ação tem um forte rally, impulsionado pela melhora nos resultados, pelos novos investimentos e pelo aumento do interesse dos investidores.\n>     *   **Fatores-Chave:**\n>         *   Leilões de energia favoráveis à Cemig.\n>         *   Aprovação de novas leis e regulamentações que beneficiem o setor de energia renovável.\n>         *   Entrada de novos investidores estratégicos na empresa.\n> *   **Cenário Pessimista (15%): Interferência Política e Deterioração dos Resultados**\n>     *   **Descrição:** Há um aumento da interferência política na Cemig, com o governo estadual buscando influenciar as decisões e nomear aliados para cargos-chave. A empresa enfrenta dificuldades financeiras e operacionais, com queda nos resultados e aumento do endividamento.\n>     *   **Comportamento do Ativo:** *Queda.* A ação entra em um ciclo de baixa, penalizada pela piora nos resultados, pelo aumento do risco político e pela desconfiança dos investidores.\n>     *   **Fatores-Chave:**\n>         *   Crises políticas ou econômicas que afetem o setor de energia.\n>         *   Mudanças na legislação que prejudiquem a Cemig.\n>         *   Novas denúncias de corrupção ou má gestão na empresa.\n> *   **Jogo de Poder:**\n>     *   O governo de Minas Gerais tem o poder de influenciar a Cemig por meio de regulamentações, políticas setoriais e indicações para o Conselho de Administração.\n>     *   Grandes investidores podem pressionar a empresa por melhores resultados e governança.\n> *   **Comportamento do Mercado e Resalvas:**\n>     *   A ação da Cemig tem apresentado volatilidade, refletindo as incertezas em relação ao futuro da empresa.\n>     *   Um \"cisne negro\" seria uma crise política ou econômica que afetasse o setor de energia, ou uma descoberta de irregularidades graves na empresa.\n> \n> **2. Engie Brasil (EGIE3)**\n> \n> *   **Cenário Base (60%): Crescimento Constante com Foco em Rentabilidade**\n>     *   **Descrição:** A Engie Brasil continua a apresentar resultados sólidos, com foco na rentabilidade e na expansão de projetos de energia renovável. A empresa se beneficia de sua expertise em geração e distribuição de energia, e de sua forte presença no mercado brasileiro.\n>     *   **Comportamento do Ativo:** *Estabilidade com viés de alta moderada.* A ação deve apresentar uma valorização gradual, impulsionada pela melhora nos resultados e pela percepção de menor risco político. No entanto, a alta será limitada pela cautela dos investidores em relação às incertezas regulatórias.\n>     *   **Fatores-Chave:**\n>         *   Implementação bem-sucedida de projetos de energia renovável.\n>         *   Resolução de questões regulatórias pendentes.\n>         *   Crescimento da demanda por energia no Brasil.\n> *   **Cenário Otimista (25%): Expansão Acelerada e Liderança no Setor**\n>     *   **Descrição:** A Engie Brasil acelera sua expansão em energias renováveis, com novos projetos e parcerias estratégicas. A empresa se torna líder no setor, com reconhecimento do mercado e dos investidores.\n>     *   **Comportamento do Ativo:** *Alta Significativa.* A ação tem um forte rally, impulsionado pela melhora nos resultados, pelos novos investimentos e pelo aumento do interesse dos investidores.\n>     *   **Fatores-Chave:**\n>         *   Leilões de energia favoráveis à Engie Brasil.\n>         *   Aprovação de novas leis e regulamentações que beneficiem o setor de energia renovável.\n>         *   Entrada de novos investidores estratégicos na empresa.\n> *   **Cenário Pessimista (15%): Desafios Operacionais e Queda na Rentabilidade**\n>     *   **Descrição:** A Engie Brasil enfrenta desafios operacionais, como atrasos em projetos e aumento de custos. A empresa também sofre com a queda na rentabilidade de seus ativos, devido à concorrência e às mudanças regulatórias.\n>     *   **Comportamento do Ativo:** *Queda.* A ação entra em um ciclo de baixa, penalizada pela piora nos resultados e pela desconfiança dos investidores.\n>     *   **Fatores-Chave:**\n>         *   Crises econômicas que afetem o setor de energia.\n>         *   Mudanças na legislação que prejudiquem a Engie Brasil.\n>         *   Novas denúncias de corrupção ou má gestão na empresa.\n> *   **Jogo de Poder:**\n>     *   O governo federal tem o poder de influenciar a Engie Brasil por meio de regulamentações, políticas setoriais e concessões de projetos.\n>     *   Grandes investidores podem pressionar a empresa por melhores resultados e governança.\n> *   **Comportamento do Mercado e Resalvas:**\n>     *   A ação da Engie Brasil tem apresentado volatilidade, refletindo as incertezas em relação ao futuro da empresa.\n>     *   Um \"cisne negro\" seria uma crise política ou econômica que afetasse o setor de energia, ou uma descoberta de irregularidades graves na empresa.\n> \n> **3. CPFL Energia (CPFE3)**\n> \n> *   **Cenário Base (60%): Crescimento Sustentável com Foco em Geração Renovável**\n>     *   **Descrição:** A CPFL Energia continua a investir em geração de energia renovável, principalmente hidrelétrica, eólica e solar. A empresa se beneficia dos incentivos governamentais para projetos de energia renovável e da crescente demanda por energia limpa no Brasil.\n>     *   **Comportamento do Ativo:** *Estabilidade com viés de alta moderada.* A ação deve apresentar uma valorização gradual, impulsionada pela melhora nos resultados e pela percepção de menor risco político. No entanto, a alta será limitada pela cautela dos investidores em relação às incertezas regulatórias.\n>     *   **Fatores-Chave:**\n>         *   Implementação bem-sucedida de projetos de energia renovável.\n>         *   Resolução de questões regulatórias pendentes.\n>         *   Crescimento da demanda por energia no Brasil.\n> *   **Cenário Otimista (25%): Expansão Acelerada e Liderança em Energia Renovável**\n>     *   **Descrição:** A CPFL Energia acelera sua expansão em energias renováveis, com novos projetos e parcerias estratégicas. A empresa se torna líder no setor, com reconhecimento do mercado e dos investidores.\n>     *   **Comportamento do Ativo:** *Alta Significativa.* A ação tem um forte rally, impulsionado pela melhora nos resultados, pelos novos investimentos e pelo aumento do interesse dos investidores.\n>     *   **Fatores-Chave:**\n>         *   Leilões de energia favoráveis à CPFL Energia.\n>         *   Aprovação de novas leis e regulamentações que beneficiem o setor de energia renovável.\n>         *   Entrada de novos investidores estratégicos na empresa.\n> *   **Cenário Pessimista (15%): Desafios Operacionais e Queda na Rentabilidade**\n>     *   **Descrição:** A CPFL Energia enfrenta desafios operacionais, como atrasos em projetos e aumento de custos. A empresa também sofre com a queda na rentabilidade de seus ativos, devido à concorrência e às mudanças regulatórias.\n>     *   **Comportamento do Ativo:** *Queda.* A ação entra em um ciclo de baixa, penalizada pela piora nos resultados e pela desconfiança dos investidores.\n>     *   **Fatores-Chave:**\n>         *   Crises econômicas que afetem o setor de energia.\n>         *   Mudanças na legislação que prejudiquem a CPFL Energia.\n>         *   Novas denúncias de corrupção ou má gestão na empresa.\n> *   **Jogo de Poder:**\n>     *   O governo federal tem o poder de influenciar a CPFL Energia por meio de regulamentações, políticas setoriais e concessões de projetos.\n>     *   Grandes investidores podem pressionar a empresa por melhores resultados e governança.\n> *   **Comportamento do Mercado e Resalvas:**\n>     *   A ação da CPFL Energia tem apresentado volatilidade, refletindo as incertezas em relação ao futuro da empresa.\n>     *   Um \"cisne negro\" seria uma crise política ou econômica que afetasse o setor de energia, ou uma descoberta de irregularidades graves na empresa.\n> \n> **4. Taesa (TAEE11)**\n> \n> *   **Cenário Base (60%): Estabilidade e Previsibilidade com Crescimento Moderado**\n>     *   **Descrição:** A Taesa continua a operar suas linhas de transmissão de energia com contratos de longo prazo e correção inflacionária. A empresa se beneficia da crescente demanda por transmissão de energia no Brasil e da sua expertise no setor.\n>     *   **Comportamento do Ativo:** *Estabilidade com viés de alta moderada.* A ação deve apresentar uma valorização gradual, impulsionada pela previsibilidade dos resultados e pela percepção de menor risco político. No entanto, a alta será limitada pela cautela dos investidores em relação às incertezas macroeconômicas.\n>     *   **Fatores-Chave:**\n>         *   Manutenção da qualidade e confiabilidade das linhas de transmissão.\n>         *   Resolução de questões regulatórias pendentes.\n>         *   Crescimento da demanda por transmissão de energia no Brasil.\n> *   **Cenário Otimista (25%): Expansão Acelerada e Novos Contratos**\n>     *   **Descrição:** A Taesa acelera sua expansão em linhas de transmissão, com novos projetos e leilões favoráveis. A empresa se torna líder no setor, com reconhecimento do mercado e dos investidores.\n>     *   **Comportamento do Ativo:** *Alta Significativa.* A ação tem um forte rally, impulsionado pela melhora nos resultados, pelos novos investimentos e pelo aumento do interesse dos investidores.\n>     *   **Fatores-Chave:**\n>         *   Leilões de transmissão de energia favoráveis à Taesa.\n>         *   Aprovação de novas leis e regulamentações que beneficiem o setor de transmissão de energia.\n>         *   Entrada de novos investidores estratégicos na empresa.\n> *   **Cenário Pessimista (15%): Desafios Operacionais e Queda na Rentabilidade**\n>     *   **Descrição:** A Taesa enfrenta desafios operacionais, como atrasos em projetos e aumento de custos. A empresa também sofre com a queda na rentabilidade de seus ativos, devido à concorrência e às mudanças regulatórias.\n>     *   **Comportamento do Ativo:** *Queda.* A ação entra em um ciclo de baixa, penalizada pela piora nos resultados e pela desconfiança dos investidores.\n>     *   **Fatores-Chave:**\n>         *   Crises econômicas que afetem o setor de energia.\n>         *   Mudanças na legislação que prejudiquem a Taesa.\n>         *   Novas denúncias de corrupção ou má gestão na empresa.\n> *   **Jogo de Poder:**\n>     *   O governo federal tem o poder de influenciar a Taesa por meio de regulamentações, políticas setoriais e concessões de projetos.\n>     *   Grandes investidores podem pressionar a empresa por melhores resultados e governança.\n> *   **Comportamento do Mercado e Resalvas:**\n>     *   A ação da Taesa tem apresentado volatilidade, refletindo as incertezas em relação ao futuro da empresa.\n>     *   Um \"cisne negro\" seria uma crise política ou econômica que afetasse o setor de energia, ou uma descoberta de irregularidades graves na empresa.\n> \n> **5. Equatorial Energia (EQTL3)**\n> \n> *   **Cenário Base (60%): Crescimento Consolidado com Eficiência Operacional**\n>     *   **Descrição:** A Equatorial Energia continua a focar na eficiência operacional e na expansão de sua base de clientes, principalmente nas regiões onde já atua. A empresa se beneficia do crescimento do consumo de energia no Brasil e da sua expertise na distribuição.\n>     *   **Comportamento do Ativo:** *Estabilidade com viés de alta moderada.* A ação deve apresentar uma valorização gradual, impulsionada pela melhora nos resultados e pela percepção de menor risco político. No entanto, a alta será limitada pela cautela dos investidores em relação às incertezas regulatórias.\n>     *   **Fatores-Chave:**\n>         *   Manutenção da qualidade e confiabilidade da distribuição de energia.\n>         *   Resolução de questões regulatórias pendentes.\n>         *   Crescimento do consumo de energia no Brasil.\n> *   **Cenário Otimista (25%): Expansão Acelerada e Novos Contratos**\n>     *   **Descrição:** A Equatorial Energia acelera sua expansão em distribuição de energia, com novos projetos e concessões favoráveis. A empresa se torna líder no setor, com reconhecimento do mercado e dos investidores.\n>     *   **Comportamento do Ativo:** *Alta Significativa.* A ação tem um forte rally, impulsionado pela melhora nos resultados, pelos novos investimentos e pelo aumento do interesse dos investidores.\n>     *   **Fatores-Chave:**\n>         *   Leilões de distribuição de energia favoráveis à Equatorial Energia.\n>         *   Aprovação de novas leis e regulamentações que beneficiem o setor de distribuição de energia.\n>         *   Entrada de novos investidores estratégicos na empresa.\n> *   **Cenário Pessimista (15%): Desafios Operacionais e Queda na Rentabilidade**\n>     *   **Descrição:** A Equatorial Energia enfrenta desafios operacionais, como atrasos em projetos e aumento de custos. A empresa também sofre com a queda na rentabilidade de seus ativos, devido à concorrência e às mudanças regulatórias.\n>     *   **Comportamento do Ativo:** *Queda.* A ação entra em um ciclo de baixa, penalizada pela piora nos resultados e pela desconfiança dos investidores.\n>     *   **Fatores-Chave:**\n>         *   Crises econômicas que afetem o setor de energia.\n>         *   Mudanças na legislação que prejudiquem a Equatorial Energia.\n>         *   Novas denúncias de corrupção ou má gestão na empresa.\n> *   **Jogo de Poder:**\n>     *   O governo federal tem o poder de influenciar a Equatorial Energia por meio de regulamentações, políticas setoriais e concessões de projetos.\n>     *   Grandes investidores podem pressionar a empresa por melhores resultados e governança.\n> *   **Comportamento do Mercado e Resalvas:**\n>     *   A ação da Equatorial Energia tem apresentado volatilidade, refletindo as incertezas em relação ao futuro da empresa.\n>     *   Um \"cisne negro\" seria uma crise política ou econômica que afetasse o setor de energia, ou uma descoberta de irregularidades graves na empresa.\n> \n> **6. Neoenergia (NEOE3)**\n> \n> *   **Cenário Base (60%): Crescimento Sustentável com Foco em Fontes Renováveis**\n>     *   **Descrição:** A Neoenergia continua a investir em geração, transmissão, distribuição e comercialização de energia elétrica, com foco em fontes renováveis e expansão da base de clientes. A empresa se beneficia da sua expertise em energia renovável e da sua presença em diversas regiões do Brasil.\n>     *   **Comportamento do Ativo:** *Estabilidade com viés de alta moderada.* A ação deve apresentar uma valorização gradual, impulsionada pela melhora nos resultados e pela percepção de menor risco político. No entanto, a alta será limitada pela cautela dos investidores em relação às incertezas regulatórias.\n>     *   **Fatores-Chave:**\n>         *   Implementação bem-sucedida de projetos de energia renovável.\n>         *   Resolução de questões regulatórias pendentes.\n>         *   Crescimento da demanda por energia no Brasil.\n> *   **Cenário Otimista (25%): Expansão Acelerada e Liderança em Energia Renovável**\n>     *   **Descrição:** A Neoenergia acelera sua expansão em energias renováveis, com novos projetos e parcerias estratégicas. A empresa se torna líder no setor, com reconhecimento do mercado e dos investidores.\n>     *   **Comportamento do Ativo:** *Alta Significativa.* A ação tem um forte rally, impulsionado pela melhora nos resultados, pelos novos investimentos e pelo aumento do interesse dos investidores.\n>     *   **Fatores-Chave:**\n>         *   Leilões de energia favoráveis à Neoenergia.\n>         *   Aprovação de novas leis e regulamentações que beneficiem o setor de energia renovável.\n>         *   Entrada de novos investidores estratégicos na empresa.\n> *   **Cenário Pessimista (15%): Desafios Operacionais e Queda na Rentabilidade**\n>     *   **Descrição:** A Neoenergia enfrenta desafios operacionais, como atrasos em projetos e aumento de custos. A empresa também sofre com a queda na rentabilidade de seus ativos, devido à concorrência e às mudanças regulatórias.\n>     *   **Comportamento do Ativo:** *Queda.* A ação entra em um ciclo de baixa, penalizada pela piora nos resultados e pela desconfiança dos investidores.\n>     *   **Fatores-Chave:**\n>         *   Crises econômicas que afetem o setor de energia.\n>         *   Mudanças na legislação que prejudiquem a Neoenergia.\n>         *   Novas denúncias de corrupção ou má gestão na empresa.\n> *   **Jogo de Poder:**\n>     *   O governo federal tem o poder de influenciar a Neoenergia por meio de regulamentações, políticas setoriais e concessões de projetos.\n>     *   Grandes investidores podem pressionar a empresa por melhores resultados e governança.\n> *   **Comportamento do Mercado e Resalvas:**\n>     *   A ação da Neoenergia tem apresentado volatilidade, refletindo as incertezas em relação ao futuro da empresa.\n>     *   Um \"cisne negro\" seria uma crise política ou econômica que afetasse o setor de energia, ou uma descoberta de irregularidades graves na empresa.\n> \n> **7. Energisa (ENGI11)**\n> \n> *   **Cenário Base (60%): Crescimento Consistente com Foco em Distribuição**\n>     *   **Descrição:** A Energisa continua focada na distribuição de energia elétrica em diversas regiões do Brasil, buscando eficiência operacional e expansão da base de clientes. A empresa se beneficia do crescimento do consumo de energia no país e da sua experiência no setor.\n>     *   **Comportamento do Ativo:** *Estabilidade com viés de alta moderada.* A ação deve apresentar uma valorização gradual, impulsionada pela previsibilidade dos resultados e pela percepção de menor risco político. No entanto, a alta será limitada pela cautela dos investidores em relação às incertezas regulatórias.\n>     *   **Fatores-Chave:**\n>         *   Manutenção da qualidade e confiabilidade da distribuição de energia.\n>         *   Resolução de questões regulatórias pendentes.\n>         *   Crescimento do consumo de energia no Brasil.\n> *   **Cenário Otimista (25%): Expansão Acelerada e Novos Contratos de Concessão**\n>     *   **Descrição:** A Energisa acelera sua expansão na distribuição de energia, conquistando novos contratos de concessão e expandindo sua área de atuação. A empresa se torna referência no setor, com reconhecimento do mercado e dos investidores.\n>     *   **Comportamento do Ativo:** *Alta Significativa.* A ação tem um forte rally, impulsionado pela melhora nos resultados, pelos novos investimentos e pelo aumento do interesse dos investidores.\n>     *   **Fatores-Chave:**\n>         *   Leilões de concessão de distribuição de energia favoráveis à Energisa.\n>         *   Aprovação de novas leis e regulamentações que beneficiem o setor de distribuição de energia.\n>         *   Entrada de novos investidores estratégicos na empresa.\n> *   **Cenário Pessimista (15%): Desafios Operacionais e Aumento da Inadimplência**\n>     *   **Descrição:** A Energisa enfrenta desafios operacionais, como perdas de energia e aumento da inadimplência, principalmente em regiões com menor poder aquisitivo. A empresa também sofre com a pressão por tarifas mais baixas e a concorrência no setor.\n>     *   **Comportamento do Ativo:** *Queda.* A ação entra em um ciclo de baixa, penalizada pela piora nos resultados e pela desconfiança dos investidores.\n>     *   **Fatores-Chave:**\n>         *   Crises econômicas que afetem o consumo de energia.\n>         *   Mudanças na legislação que prejudiquem a Energisa.\n>         *   Aumento da inadimplência e das perdas de energia.\n> *   **Jogo de Poder:**\n>     *   O governo federal tem o poder de influenciar a Energisa por meio de regulamentações, políticas setoriais e concessões de projetos.\n>     *   Grandes investidores podem pressionar a empresa por melhores resultados e governança.\n> *   **Comportamento do Mercado e Resalvas:**\n>     *   A ação da Energisa tem apresentado volatilidade, refletindo as incertezas em relação ao futuro da empresa.\n>     *   Um \"cisne negro\" seria uma crise política ou econômica que afetasse o setor de energia, ou uma descoberta de irregularidades graves na empresa.\n> \n> **8. Alupar (ALUP11)**\n> \n> *   **Cenário Base (60%): Receita Previsível com Contratos de Longo Prazo**\n>     *   **Descrição:** A Alupar continua a operar suas linhas de transmissão de energia com contratos de longo prazo e receita previsível. A empresa se beneficia da crescente demanda por transmissão de energia no Brasil e da sua expertise no setor.\n>     *   **Comportamento do Ativo:** *Estabilidade com viés de alta moderada.* A ação deve apresentar uma valorização gradual, impulsionada pela previsibilidade dos resultados e pela percepção de menor risco político. No entanto, a alta será limitada pela cautela dos investidores em relação às incertezas macroeconômicas.\n>     *   **Fatores-Chave:**\n>         *   Manutenção da qualidade e confiabilidade das linhas de transmissão.\n>         *   Resolução de questões regulatórias pendentes.\n>         *   Crescimento da demanda por transmissão de energia no Brasil.\n> *   **Cenário Otimista (25%): Novos Projetos e Leilões Favoráveis**\n>     *   **Descrição:** A Alupar conquista novos projetos de transmissão de energia, participando de leilões e expandindo sua área de atuação. A empresa se torna referência no setor, com reconhecimento do mercado e dos investidores.\n>     *   **Comportamento do Ativo:** *Alta Significativa.* A ação tem um forte rally, impulsionado pela melhora nos resultados, pelos novos investimentos e pelo aumento do interesse dos investidores.\n>     *   **Fatores-Chave:**\n>         *   Leilões de transmissão de energia favoráveis à Alupar.\n>         *   Aprovação de novas leis e regulamentações que beneficiem o setor de transmissão de energia.\n>         *   Entrada de novos investidores estratégicos na empresa.\n> *   **Cenário Pessimista (15%): Atrasos em Projetos e Aumento de Custos**\n>     *   **Descrição:** A Alupar enfrenta atrasos na implementação de novos projetos de transmissão, devido a questões ambientais, fundiárias ou regulatórias. A empresa também sofre com o aumento dos custos de construção e manutenção das linhas de transmissão.\n>     *   **Comportamento do Ativo:** *Queda.* A ação entra em um ciclo de baixa, penalizada pela piora nos resultados e pela desconfiança dos investidores.\n>     *   **Fatores-Chave:**\n>         *   Crises econômicas que afetem o setor de energia.\n>         *   Mudanças na legislação que prejudiquem a Alupar.\n>         *   Dificuldades na obtenção de licenças ambientais e autorizações governamentais.\n> *   **Jogo de Poder:**\n>     *   O governo federal tem o poder de influenciar a Alupar por meio de regulamentações, políticas setoriais e concessões de projetos.\n>     *   Grandes investidores podem pressionar a empresa por melhores resultados e governança.\n> *   **Comportamento do Mercado e Resalvas:**\n>     *   A ação da Alupar tem apresentado volatilidade, refletindo as incertezas em relação ao futuro da empresa.\n>     *   Um \"cisne negro\" seria uma crise política ou econômica que afetasse o setor de energia, ou uma descoberta de irregularidades graves na empresa.\n> \n> **9. Auren Energia (AURE3)**\n> \n> *   **Cenário Base (60%): Geração Diversificada com Foco em Energia Renovável**\n>     *   **Descrição:** A Auren Energia continua a operar seu portfólio diversificado de ativos de geração de energia, incluindo eólicas, hidrelétricas e solares. A empresa se beneficia da crescente demanda por energia renovável no Brasil e da sua expertise no setor.\n>     *   **Comportamento do Ativo:** *Estabilidade com viés de alta moderada.* A ação deve apresentar uma valorização gradual, impulsionada pela melhora nos resultados e pela percepção de menor risco político. No entanto, a alta será limitada pela cautela dos investidores em relação às incertezas regulatórias.\n>     *   **Fatores-Chave:**\n>         *   Manutenção da qualidade e confiabilidade dos ativos de geração.\n>         *   Resolução de questões regulatórias pendentes.\n>         *   Crescimento da demanda por energia no Brasil.\n> *   **Cenário Otimista (25%): Expansão em Energia Renovável e Novos Contratos**\n>     *   **Descrição:** A Auren Energia conquista novos projetos de geração de energia renovável, participando de leilões e expandindo sua área de atuação. A empresa se torna referência no setor, com reconhecimento do mercado e dos investidores.\n>     *   **Comportamento do Ativo:** *Alta Significativa.* A ação tem um forte rally, impulsionado pela melhora nos resultados, pelos novos investimentos e pelo aumento do interesse dos investidores.\n>     *   **Fatores-Chave:**\n>         *   Leilões de energia favoráveis à Auren Energia.\n>         *   Aprovação de novas leis e regulamentações que beneficiem o setor de energia renovável.\n>         *   Entrada de novos investidores estratégicos na empresa.\n> *   **Cenário Pessimista (15%): Desafios Operacionais e Queda na Geração**\n>     *   **Descrição:** A Auren Energia enfrenta desafios operacionais, como a falta de chuvas que afeta a geração hidrelétrica e a intermitência da geração eólica e solar. A empresa também sofre com a pressão por preços mais baixos e a concorrência no setor.\n>     *   **Comportamento do Ativo:** *Queda.* A ação entra em um ciclo de baixa, penalizada pela piora nos resultados e pela desconfiança dos investidores.\n>     *   **Fatores-Chave:**\n>         *   Crises climáticas que afetem a geração de energia renovável.\n>         *   Mudanças na legislação que prejudiquem a Auren Energia.\n>         *   Aumento da concorrência e da pressão por preços mais baixos.\n> *   **Jogo de Poder:**\n>     *   O governo federal tem o poder de influenciar a Auren Energia por meio de regulamentações, políticas setoriais e concessões de projetos.\n>     *   Grandes investidores podem pressionar a empresa por melhores resultados e governança.\n> *   **Comportamento do Mercado e Resalvas:**\n>     *   A ação da Auren Energia tem apresentado volatilidade, refletindo as incertezas em relação ao futuro da empresa.\n>     *   Um \"cisne negro\" seria uma crise política ou econômica que afetasse o setor de energia, ou uma descoberta de irregularidades graves na empresa.\n> \n> **Empresas Internacionais**\n> \n> 1.  **China Yangtze Power:**\n> \n>     *   **Cenário Base (60%):** Crescimento Contínuo Impulsionado pela Demanda Interna\n>         *   **Descrição:** A China Yangtze Power continua a se beneficiar do aumento da demanda por energia na China, especialmente por fontes renováveis. O governo chinês mantém seu forte apoio ao setor de energia limpa.\n>         *   **Comportamento do Ativo:** *Estabilidade com viés de alta moderada.* O crescimento constante da demanda e o apoio governamental sustentam a valorização, mas tensões geopolíticas e mudanças regulatórias podem limitar o potencial.\n>         *   **Fatores-Chave:**\n>             *   Crescimento econômico da China.\n>             *   Políticas de apoio às energias renováveis na China.\n>             *   Investimentos em novas usinas hidrelétricas e outras fontes renováveis.\n> \n>     *   **Cenário Otimista (25%):** Expansão Global e Inovação Tecnológica\n>         *   **Descrição:** A China Yangtze Power expande sua atuação para outros mercados, aproveitando sua expertise em grandes projetos hidrelétricos e outras tecnologias renováveis. A empresa se torna um líder global em energia limpa.\n>         *   **Comportamento do Ativo:** *Alta Significativa.* A expansão global e a liderança tecnológica atraem investidores e impulsionam a valorização das ações.\n>         *   **Fatores-Chave:**\n>             *   Acordos comerciais favoráveis com outros países.\n>             *   Sucesso em projetos internacionais.\n>             *   Inovação em tecnologias de energia renovável.\n> \n>     *   **Cenário Pessimista (15%):** Desaceleração Econômica e Tensões Geopolíticas\n>         *   **Descrição:** A China enfrenta uma desaceleração econômica, reduzindo a demanda por energia. Tensões geopolíticas com outros países afetam os investimentos estrangeiros e limitam a expansão da empresa.\n>         *   **Comportamento do Ativo:** *Queda.* A desaceleração econômica e as tensões geopolíticas afetam os resultados da empresa e reduzem o interesse dos investidores.\n>         *   **Fatores-Chave:**\n>             *   Desaceleração da economia chinesa.\n>             *   Aumento das tensões geopolíticas.\n>             *   Mudanças regulatórias desfavoráveis na China.\n> \n>     *   **Jogo de Poder:**\n>         *   O governo chinês exerce forte influência sobre a China Yangtze Power, definindo as políticas e os investimentos do setor.\n>         *   Acordos comerciais e políticos com outros países afetam a expansão internacional da empresa.\n> \n>     *   **Comportamento do Mercado e Resalvas:**\n>         *   As ações da China Yangtze Power são influenciadas pelo sentimento em relação à economia chinesa e às políticas governamentais.\n>         *   Um \"cisne negro\" seria uma crise política interna na China ou um conflito geopolítico grave.\n> \n> 2.  **Vestas Wind Systems:**\n> \n>     *   **Cenário Base (60%):** Crescimento Contínuo no Mercado Eólico Global\n>         *   **Descrição:** A Vestas continua a se beneficiar do crescimento do mercado eólico global, impulsionado pela demanda por energia limpa e pela redução dos custos da tecnologia. A empresa mantém sua posição de liderança no setor.\n>         *   **Comportamento do Ativo:** *Estabilidade com viés de alta moderada.* A demanda crescente e a liderança de mercado sustentam a valorização, mas a concorrência acirrada e os desafios logísticos podem limitar o potencial.\n>         *   **Fatores-Chave:**\n>             *   Crescimento do mercado eólico global.\n>             *   Inovação em tecnologias de turbinas eólicas.\n>             *   Eficiência na produção e entrega de turbinas.\n> \n>     *   **Cenário Otimista (25%):** Inovação Disruptiva e Expansão para Novos Mercados\n>         *   **Descrição:** A Vestas lança novas tecnologias de turbinas eólicas que reduzem ainda mais os custos e aumentam a eficiência. A empresa expande sua atuação para novos mercados, como a energia eólica offshore.\n>         *   **Comportamento do Ativo:** *Alta Significativa.* A inovação e a expansão para novos mercados atraem investidores e impulsionam a valorização das ações.\n>         *   **Fatores-Chave:**\n>             *   Sucesso no desenvolvimento e lançamento de novas tecnologias.\n>             *   Acordos comerciais favoráveis com outros países.\n>             *   Crescimento do mercado de energia eólica offshore.\n> \n>     *   **Cenário Pessimista (15%):** Aumento da Concorrência e Problemas de Qualidade\n>         *   **Descrição:** A Vestas enfrenta um aumento da concorrência de fabricantes de turbinas eólicas de baixo custo, especialmente da China. A empresa também enfrenta problemas de qualidade em seus produtos, afetando sua reputação e seus resultados.\n>         *   **Comportamento do Ativo:** *Queda.* O aumento da concorrência e os problemas de qualidade afetam os resultados da empresa e reduzem o interesse dos investidores.\n>         *   **Fatores-Chave:**\n>             *   Aumento da concorrência de fabricantes de baixo custo.\n>             *   Problemas de qualidade nos produtos da Vestas.\n>             *   Atrasos na entrega de turbinas.\n> \n>     *   **Jogo de Poder:**\n>         *   Políticas governamentais de apoio às energias renováveis afetam a demanda por turbinas eólicas.\n>         *   Acordos comerciais e políticos com outros países afetam a expansão internacional da empresa.\n> \n>     *   **Comportamento do Mercado e Resalvas:**\n>         *   As ações da Vestas são influenciadas pelo sentimento em relação ao mercado eólico global e à capacidade da empresa de manter sua liderança.\n>         *   Um \"cisne negro\" seria uma mudança radical nas políticas de apoio às energias renováveis ou uma grande crise econômica que afetasse o setor.\n> \n> 3.  **First Solar:**\n> \n>     *   **Cenário Base (60%):** Crescimento Constante no Mercado Solar com Tecnologia Diferenciada\n>         *   **Descrição:** A First Solar continua a se beneficiar do crescimento do mercado solar, impulsionado pela demanda por energia limpa e pela redução dos custos da tecnologia. A empresa se destaca por sua tecnologia de filme fino, que oferece vantagens em termos de custo e eficiência em certas condições.\n>         *   **Comportamento do Ativo:** *Estabilidade com viés de alta moderada.* A demanda crescente e a tecnologia diferenciada sustentam a valorização, mas a conc\n"
          },
          "metadata": {}
        },
        {
          "output_type": "stream",
          "name": "stdout",
          "text": [
            "--------------------------------------------------------------\n",
            "\n",
            "--- 📝 Resultado do Agente 6 (Avaliador de Investimentos) ---\n",
            "\n"
          ]
        },
        {
          "output_type": "display_data",
          "data": {
            "text/plain": [
              "<IPython.core.display.Markdown object>"
            ],
            "text/markdown": "> Com certeza! Para um investidor iniciante, aqui está um resumo da análise do setor de energia renovável, utilizando uma linguagem simples e clara:\n> \n> **Resumo da Análise do Setor de Energia Renovável**\n> \n> **Situação Atual (Agora)**\n> \n> *   **Economia Global (Mundo):** O mundo está crescendo um pouco, mas não muito rápido. A inflação (aumento dos preços) está diminuindo.\n> *   **Economia Brasileira:** O Brasil também deve crescer um pouco. A inflação está um pouco alta, o que faz com que o Banco Central (BC) mantenha os juros altos para tentar controlá-la.\n> *   **Energia Renovável:** Este setor está crescendo bastante, pois as pessoas querem energia limpa. Espera-se que os investimentos ultrapassem 2 trilhões de dólares em 2025.\n> \n> **Como a Economia Afeta a Energia Renovável**\n> \n> *   **Juros Altos:** Se os juros (Selic) estão altos, fica mais caro pegar dinheiro emprestado para construir usinas de energia renovável. Isso pode atrapalhar o crescimento do setor.\n> *   **Inflação:** A inflação alta pode aumentar os custos de construção e manutenção das usinas.\n> *   **Dólar:** A alta do dólar pode aumentar o custo de equipamentos importados, como painéis solares.\n> \n> **Cenários para o Futuro (Próximos Anos)**\n> \n> Para cada empresa e ativo, criamos três cenários possíveis:\n> \n> 1.  **Cenário Base (Mais Provável):** A empresa continua crescendo de forma constante, mas enfrenta alguns desafios.\n> 2.  **Cenário Otimista:** A empresa cresce muito rápido e se torna líder no setor.\n> 3.  **Cenário Pessimista:** A empresa enfrenta dificuldades e pode até perder valor.\n> \n> **Exemplo: Eletrobras (ELET3)**\n> \n> *   **Cenário Base:** A Eletrobras continua melhorando depois da privatização, mas ainda tem desafios.\n> *   **Cenário Otimista:** A Eletrobras se torna uma grande empresa de energia renovável.\n> *   **Cenário Pessimista:** O governo começa a interferir na empresa, o que atrapalha os resultados.\n> \n> **Outras Empresas e Ativos**\n> \n> Analisamos várias outras empresas brasileiras, como Cemig (CMIG4), Engie Brasil (EGIE3), CPFL Energia (CPFE3), Taesa (TAEE11), Equatorial Energia (EQTL3), Neoenergia (NEOE3), Energisa (ENGI11), Alupar (ALUP11) e Auren Energia (AURE3). Também olhamos para empresas internacionais, commodities (como lítio e silício), fundos imobiliários (FIIs) e títulos verdes (Green Bonds).\n> \n> **O \"Jogo de Poder\"**\n> \n> As decisões do governo (políticas, leis, etc.) e de grandes empresas podem afetar muito o setor de energia renovável. É importante ficar de olho nessas decisões.\n> \n> **O Que Observar Agora**\n> \n> *   **Notícias:** Acompanhe as notícias sobre as empresas e o setor de energia renovável.\n> *   **Indicadores Econômicos:** Fique de olho na inflação, nos juros e no dólar.\n> *   **Decisões do Governo:** Acompanhe as políticas e leis que afetam o setor.\n> \n> **Considerações Finais**\n> \n> O setor de energia renovável tem um grande potencial de crescimento, mas também apresenta riscos. É importante fazer uma análise cuidadosa antes de investir.\n> \n> **Importante:** Esta análise não é uma recomendação de investimento. É apenas um exercício acadêmico para ajudar você a entender melhor o setor de energia renovável.\n> \n> **Isenção de Responsabilidade:**\n> \n> Este material tem fins exclusivamente informativos e educacionais. Não constitui recomendação de investimento, análise financeira ou consultoria de qualquer natureza. As informações aqui apresentadas são baseadas em dados disponíveis ao público e interpretações realizadas por um modelo de linguagem.\n> \n> O setor de energia renovável apresenta riscos e incertezas inerentes, e o desempenho passado não garante resultados futuros. O investimento em qualquer ativo financeiro deve ser precedido de análise individualizada e criteriosa, considerando o perfil de risco, objetivos financeiros e horizonte de investimento de cada investidor.\n> \n> A utilização das informações contidas neste material é de inteira responsabilidade do usuário, e isentamos-nos de qualquer responsabilidade por eventuais perdas ou danos decorrentes de decisões de investimento tomadas com base neste conteúdo.\n> \n> \n"
          },
          "metadata": {}
        },
        {
          "output_type": "stream",
          "name": "stdout",
          "text": [
            "--------------------------------------------------------------\n"
          ]
        }
      ]
    }
  ]
}