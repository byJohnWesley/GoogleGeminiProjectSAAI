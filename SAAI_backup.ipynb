{
  "nbformat": 4,
  "nbformat_minor": 0,
  "metadata": {
    "colab": {
      "provenance": [],
      "include_colab_link": true
    },
    "kernelspec": {
      "name": "python3",
      "display_name": "Python 3"
    },
    "language_info": {
      "name": "python"
    }
  },
  "cells": [
    {
      "cell_type": "markdown",
      "metadata": {
        "id": "view-in-github",
        "colab_type": "text"
      },
      "source": [
        "<a href=\"https://colab.research.google.com/github/byJohnWesley/GoogleGeminiProjectSAAI/blob/main/SAAI_backup.ipynb\" target=\"_parent\"><img src=\"https://colab.research.google.com/assets/colab-badge.svg\" alt=\"Open In Colab\"/></a>"
      ]
    },
    {
      "cell_type": "code",
      "execution_count": 22,
      "metadata": {
        "id": "eerNd-tUeHqw"
      },
      "outputs": [],
      "source": [
        "%pip -q install google-genai"
      ]
    },
    {
      "cell_type": "code",
      "source": [
        "# Configura a API Key do Google Gemini\n",
        "\n",
        "import os\n",
        "from google.colab import userdata\n",
        "\n",
        "os.environ[\"GOOGLE_API_KEY\"] = userdata.get('GOOGLE_API_KEY')"
      ],
      "metadata": {
        "id": "Re9ot69FeUq1"
      },
      "execution_count": 23,
      "outputs": []
    },
    {
      "cell_type": "code",
      "source": [
        "!pip install -q google-adk"
      ],
      "metadata": {
        "id": "590nsee6elRW"
      },
      "execution_count": 24,
      "outputs": []
    },
    {
      "cell_type": "code",
      "source": [
        "from google.adk.agents import Agent\n",
        "from google.adk.runners import Runner\n",
        "from google.adk.sessions import InMemorySessionService\n",
        "from google.adk.tools import google_search\n",
        "from google.genai import types  # Para criar conteúdos (Content e Part)\n",
        "from datetime import date\n",
        "import textwrap # Para formatar melhor a saída de texto\n",
        "from IPython.display import display, Markdown # Para exibir texto formatado no Colab\n",
        "import requests # Para fazer requisições HTTP\n",
        "import warnings\n",
        "\n",
        "warnings.filterwarnings(\"ignore\")"
      ],
      "metadata": {
        "id": "YynQNbvpeqbU"
      },
      "execution_count": 25,
      "outputs": []
    },
    {
      "cell_type": "code",
      "source": [
        "# Função auxiliar que envia uma mensagem para um agente via Runner e retorna a resposta final\n",
        "def call_agent(agent: Agent, message_text: str) -> str:\n",
        "    # Cria um serviço de sessão em memória\n",
        "    session_service = InMemorySessionService()\n",
        "    # Cria uma nova sessão (você pode personalizar os IDs conforme necessário)\n",
        "    session = session_service.create_session(app_name=agent.name, user_id=\"user1\", session_id=\"session1\")\n",
        "    # Cria um Runner para o agente\n",
        "    runner = Runner(agent=agent, app_name=agent.name, session_service=session_service)\n",
        "    # Cria o conteúdo da mensagem de entrada\n",
        "    content = types.Content(role=\"user\", parts=[types.Part(text=message_text)])\n",
        "\n",
        "    final_response = \"\"\n",
        "    # Itera assincronamente pelos eventos retornados durante a execução do agente\n",
        "    for event in runner.run(user_id=\"user1\", session_id=\"session1\", new_message=content):\n",
        "        if event.is_final_response():\n",
        "          for part in event.content.parts:\n",
        "            if part.text is not None:\n",
        "              final_response += part.text\n",
        "              final_response += \"\\n\"\n",
        "    return final_response"
      ],
      "metadata": {
        "id": "ySfxdoYxe0_E"
      },
      "execution_count": null,
      "outputs": []
    },
    {
      "cell_type": "code",
      "source": [
        "# Função auxiliar para exibir texto formatado em Markdown no Colab\n",
        "def to_markdown(text):\n",
        "  text = text.replace('•', '  *')\n",
        "  return Markdown(textwrap.indent(text, '> ', predicate=lambda _: True))"
      ],
      "metadata": {
        "id": "Ta69e0u8e5nX"
      },
      "execution_count": null,
      "outputs": []
    },
    {
      "cell_type": "code",
      "source": [
        "##########################################\n",
        "# --- Agente 1: Coletor de Dados --- #\n",
        "##########################################\n",
        "def agente_coletor(topico, data_de_hoje):\n",
        "\n",
        "    coletor = Agent(\n",
        "        name=\"agente_coletor\",\n",
        "        model=\"gemini-2.0-flash\",\n",
        "        instruction=\"\"\"\n",
        "        Você é um assistente especialista em coleta de dados do mercado financeiro.\n",
        "        Sua tarefa é utilizar ferramentas de busca, como google_search, para obter informações atualizadas com no máximo um mês de defasagem a partir da data atual.\n",
        "        A partir do ativo fornecido pelo usuário — que pode ser um nome, setor ou ticker —,\n",
        "        você deverá coletar e estruturar uma base de dados com ativos relevantes e correlacionados ao setor mencionado ou ao ativo especificado.\n",
        "        Sua abordagem deve ser quantitativa, racional e sistemática, com foco em fundamentos sólidos.\n",
        "        Nos critérios de crescimento, avalie lucro líquido crescente, consistência nos resultados, receita crescente, além de margem líquida e EBITDA saudáveis.\n",
        "        Nos indicadores de endividamento, leve em conta a dívida bruta, dívida líquida, a relação dívida líquida/EBITDA e o índice de cobertura de juros.\n",
        "        Para a eficiência operacional, observe o giro de ativos e a margem operacional.\n",
        "        Nos critérios de rentabilidade, analise ROE (retorno sobre o patrimônio líquido) e ROIC (retorno sobre o capital investido).\n",
        "        Em termos de valuation, utilize múltiplos como P/L (preço/lucro), P/VPA (preço sobre valor patrimonial), EV/EBITDA e dividend yield,\n",
        "        além de fórmulas clássicas como o Preço Justo (fórmula de Graham) e o Preço Topo (método Bazin), baseando-se sempre em projeções conservadoras de lucro e dividendos.\n",
        "        Considere também a evolução do patrimônio líquido e a geração de caixa operacional, bem como o CAGR (taxa de crescimento anual composta) da receita, lucro e dividendos.\n",
        "        A análise deve sempre partir de dados históricos, com projeções prudentes e margem de segurança.\n",
        "        Com base nesses critérios, monte uma lista de até 45 ativos de destaque, divididos entre 10 ações brasileiras, 10 internacionais, até 10 commodities e até 8 fundos imobiliários,\n",
        "        e 7 investimentos correlacionados não citados, conforme o setor analisado.\n",
        "        Para cada ativo, apresente os dados obtidos e justifique sua inclusão com base nos fundamentos levantados.\n",
        "        Se o input do usuário for um ativo individual e não um setor, direcione a análise para ativos do mesmo setor ou segmento.\n",
        "        A lista deve conter apenas os melhores ativos cujos dados demonstram o melhor desempenho e consistência segundo os critérios estabelecidos em deterimento a outros ativos.\n",
        "        \"\"\",\n",
        "        description=\"Agente que coleta informações e dados sobre empresas no Google\",\n",
        "        tools=[google_search]\n",
        "    )\n",
        "\n",
        "    entrada_do_agente_coletor = f\"Tópico: {topico}\\nData de hoje: {data_de_hoje}\"\n",
        "\n",
        "    coleta_de_dados = call_agent(coletor, entrada_do_agente_coletor)\n",
        "    return coleta_de_dados"
      ],
      "metadata": {
        "id": "17LEbgeAe8VE"
      },
      "execution_count": 26,
      "outputs": []
    },
    {
      "cell_type": "code",
      "source": [
        "########################################################\n",
        "# --- Agente 2: Analista de Cenário Macroeconômico --- #\n",
        "########################################################\n",
        "def agente_analista_macro(topico, coleta_de_dados):\n",
        "    analista_macro = Agent(\n",
        "        name=\"agente_analista_macro\",\n",
        "        model=\"gemini-2.0-flash\",\n",
        "        # Inserir as instruções do Agente Analista #################################################\n",
        "        instruction=\"\"\"\n",
        "        Você é um especialista em análise de mercado financeiro com foco em cenários macroeconômicos.\n",
        "        Sua tarefa é utilizar a ferramenta (google_search) para buscar, coletar e analisar informações macroeconômicas atualizadas — com no máximo um mês de defasagem.\n",
        "        A partir da lista de empresas, commodities e demais ativos financeiros coletados pelo agente 1, coletor, investigue o contexto macroeconômico que possa afetar diretamente\n",
        "        ou indiretamente esses ativos. Considere fatores como juros, inflação, PIB, cenário político-econômico nacional e global, política monetária,\n",
        "        decisões de bancos centrais, conflitos geopolíticos, e outras variáveis relevantes.\n",
        "        Analise com base em dados históricos, identificando padrões e impactos recorrentes, mas sem deixar que percepções subjetivas ou emoções influenciem sua avaliação.\n",
        "        Cruze referências confiáveis para selecionar os pontos com maior grau de influência comprovada.\n",
        "        Relacione como cada um dos ativos analisados pode reagir ao atual contexto macroeconômico, e destaque os possíveis desdobramentos.\n",
        "        Ao final, para cada ativo avaliado, associe pelo menos duas notícias macroeconômicas relevantes a cada ativo que ajudem a justificar seu raciocínio e enriquecem\n",
        "        a interpretação do cenário atual. Retorne uma lista clara e justificada com essas análises para os próximos agentes utilizarem.\n",
        "        \"\"\",\n",
        "        description=\"Agente que Analisa Macroeconomia e relaciona dados\",\n",
        "        tools=[google_search]\n",
        "    )\n",
        "\n",
        "    entrada_do_agente_analista_macro = f\"Tópico:{topico}\\nDados Coletados: {coleta_de_dados}\"\n",
        "    # Executa o agente\n",
        "    analise_macro = call_agent(analista_macro, entrada_do_agente_analista_macro)\n",
        "    return analise_macro"
      ],
      "metadata": {
        "id": "tC3MEhzFikYM"
      },
      "execution_count": null,
      "outputs": []
    },
    {
      "cell_type": "code",
      "source": [
        "########################################################\n",
        "# --- Agente 3: Analista de Cenário Microeconômico --- #\n",
        "########################################################\n",
        "def agente_analista_micro(topico, coleta_de_dados):\n",
        "    analista_micro = Agent(\n",
        "        name=\"agente_analista_micro\",\n",
        "        model=\"gemini-2.0-flash\",\n",
        "        # Inserir as instruções do Agente Analista Micro #################################################\n",
        "        instruction=\"\"\"\n",
        "        Você é um especialista em análise de mercado financeiro com foco em microeconomia.\n",
        "        Com base na lista de empresas, commodities e demais ativos financeiros coletados pelo primeiro agente, sua tarefa é utilizar a ferramenta (google_search)\n",
        "        para buscar, coletar e analisar dados atualizados sobre o cenário microeconômico que possa impactar cada ativo de forma direta ou indireta. Se o ativo analisado\n",
        "        for extrangeiro, então a analise microeconomica deve ser do cenario onde se encontra aquele ativo.\n",
        "        Essa análise deve considerar fatores como nível de concorrência no setor, estrutura de mercado, grau de inovação, cadeia de suprimentos e produção,\n",
        "        regulamentações específicas, barreiras de entrada, estratégias comerciais,\n",
        "        dinâmica entre fornecedores e distribuidores, custos operacionais e capacidade de repasse de preços ao consumidor.\n",
        "        Leve em conta a evolução desses fatores ao longo do tempo e como eles historicamente influenciam a performance dos ativos, sempre mantendo uma abordagem racional,\n",
        "        técnica e livre de vieses emocionais. Cruze diferentes fontes confiáveis usando a ferramenta de busca, identificando padrões,\n",
        "        fragilidades e forças competitivas. A análise deve também considerar fatores internos das empresas, como decisões estratégicas, mudança de gestão,\n",
        "        novos contratos, expansão de capacidade, fusões e aquisições, entre outros eventos microeconômicos relevantes.\n",
        "        Ao final, relacione duas notícias microeconômicas recentes e relevantes para cada ativo analisado,\n",
        "        justificando sua seleção e detalhando como essas informações afetam o desempenho ou as perspectivas do ativo.\n",
        "        Apresente suas análises de forma organizada e clara para que o próximo agente possa integrar os resultados.\n",
        "        \"\"\",\n",
        "        description=\"Agente que Analisa Microeconomia e relaciona dados\",\n",
        "        tools=[google_search]\n",
        "    )\n",
        "\n",
        "    entrada_do_agente_analista_micro = f\"Tópico:{topico}\\nDados Coletados: {coleta_de_dados}\"\n",
        "    # Executa o agente\n",
        "    analise_micro = call_agent(analista_micro, entrada_do_agente_analista_micro)\n",
        "    return analise_micro"
      ],
      "metadata": {
        "id": "Kx_ODpwvi_Gt"
      },
      "execution_count": null,
      "outputs": []
    },
    {
      "cell_type": "code",
      "source": [
        "# --- Agente 4: Analista de Cenarios --- #\n",
        "###########################################\n",
        "\n",
        "def agente_analista_cenarios(topico, coleta_de_dados, analise_macro, analise_micro):\n",
        "    analista_cenarios = Agent(\n",
        "        name=\"agente_analista_cenarios\",\n",
        "        model=\"gemini-2.0-flash\",\n",
        "        # Inserir as instruções do Agente Analista de Cenário #######################################\n",
        "        instruction=\"\"\"\n",
        "Você é um analista especializado em correlacionar dados de micro e macroeconomia, com foco na interpretação de políticas públicas,\n",
        "dinâmicas de mercado e projeções estratégicas no contexto financeiro. Sua função é integrar todos os dados coletados anteriormente — incluindo os\n",
        "fundamentos dos ativos, as análises macroeconômicas e microeconômicas — para projetar possíveis desdobramentos sobre o comportamento de cada ativo ao longo do tempo.\n",
        "Utilizando a ferramenta (google_search), complemente as informações necessárias com atualizações que fortaleçam ou revelem novas sinergias entre os dados analisados.\n",
        "Você deverá identificar cenários prováveis com base nas políticas econômicas que estão em curso ou em debate (monetárias, fiscais, regulatórias e setoriais),\n",
        "analisando não apenas os efeitos históricos da implementação dessas medidas, mas também as chances de elas se concretizarem no presente ciclo.\n",
        "Avalie como essas medidas impactam direta e indiretamente os ativos da lista, buscando entender o jogo de interesses e o equilíbrio de poder entre os atores econômicos\n",
        "(governo, bancos centrais, empresas, consumidores e mercados internacionais).\n",
        "A partir disso, estruture três tipos de cenários: o mais provável, o alternativo e o improvável, justificando com dados e lógica de mercado cada projeção.\n",
        "Para cada ativo, apresente como ele tende a se comportar em cada cenário, destacando os que têm maior resiliência ou propensão a se valorizar independentemente das incertezas.\n",
        "Melhore a sinergia entre os dados sempre que identificar lacunas ou brechas entre as análises dos agentes anteriores,\n",
        "elevando o nível de coerência e robustez da projeção.\n",
        "Por fim, entregue uma lista rankeada dos ativos analisados, priorizando aqueles com melhor posicionamento frente aos cenários projetados,\n",
        "acompanhada de observações técnicas e estratégicas para os próximos anos.\n",
        "        \"\"\",\n",
        "        description=\"Agente analista de Macro e Micro economias, possíveis cenários econômicos e como isso afeta o mercado\"\n",
        "    )\n",
        "\n",
        "    entrada_do_analista_cenarios = f\"\"\"Tópico: {topico}\n",
        "Dados Coletados: {coleta_de_dados}\n",
        "Análise Macro: {analise_macro}\n",
        "Análise Micro: {analise_micro}\"\"\"\n",
        "\n",
        "    # Executa o agente\n",
        "    analise_final = call_agent(analista_cenarios, entrada_do_analista_cenarios)\n",
        "    return analise_final\n"
      ],
      "metadata": {
        "id": "y3Aqhu8VqBus"
      },
      "execution_count": null,
      "outputs": []
    },
    {
      "cell_type": "code",
      "source": [
        "##############################################\n",
        "# --- Agente 5: Analista Fundamentalista --- #\n",
        "##############################################\n",
        "def agente_analista_fundamentalista(topico, analise_macro, analise_micro, analise_final):\n",
        "    fundamentalista = Agent(\n",
        "        name=\"agente_analista_fundamentalista\",\n",
        "        model=\"gemini-2.0-flash\",\n",
        "        # Inserir as instruções do Agente Analista Fundamentalista ##########################################\n",
        "        instruction=\"\"\"\n",
        "   Você é um analista especialista em análise fundamentalista avançada, com uma abordagem quantitativa, racional e sistemática.\n",
        "   Sua função é consolidar todas as análises anteriores — os fundamentos dos ativos, os dados microeconômicos, macroeconômicos e as projeções de cenários —\n",
        "   para realizar uma avaliação profunda da qualidade e do potencial de valorização dos ativos selecionados.\n",
        "   Utilize a ferramenta (google_search) para confirmar e complementar os dados financeiros necessários.\n",
        "   Baseie-se em uma metodologia sólida que filtre vieses emocionais e permita identificar se um ativo está em “ponto de compra”, “zona neutra” ou “preço topo”,\n",
        "   sempre fundamentado em histórico, projeções conservadoras e uma margem de segurança adequada. Sua análise deve contemplar múltiplos indicadores estratégicos,\n",
        "   levando em conta fundamentos operacionais como lucro líquido crescente, consistência nos resultados, receita em expansão, margens líquida e EBITDA saudáveis,\n",
        "   além de geração de caixa operacional sólida. Os indicadores de endividamento devem incluir dívida bruta, dívida líquida,\n",
        "   relação dívida líquida/EBITDA e índice de cobertura de juros. Quanto à eficiência, avalie o giro de ativos, a margem operacional e a\n",
        "   produtividade por segmento. Em relação à rentabilidade, leve em conta o retorno sobre o patrimônio líquido (ROE) e o retorno sobre o capital investido (ROIC).\n",
        "   No que diz respeito à precificação, utilize múltiplos como P/L, P/VPA, EV/EBITDA e dividend yield, e empregue modelos clássicos como o\n",
        "   Preço Justo de Graham e o Preço Topo pelo Método Bazin. A análise deve também considerar o balanço patrimonial de cada empresa,\n",
        "   avaliando a evolução do patrimônio líquido e os indicadores de crescimento, como o CAGR de receita, lucro e dividendos.\n",
        "   Atribua pesos distintos para cada indicador conforme a natureza do ativo (empresa, commodity, fundo, etc.), e conecte toda essa análise ao cenário político,\n",
        "   às políticas financeiras em vigor ou previstas, e às condições macro e microeconômicas.\n",
        "   Com base em todas as análises e dados coletados, selecione os cinco ativos mais sólidos e promissores de cada categoria do setor solicitado,\n",
        "   priorizando aqueles que, mesmo em cenários adversos, demonstram potencial de valorização robusta, histórica e projetada acima do IPCA, do S&P 500,\n",
        "   da Nasdaq e de outros benchmarks globais. Certifique-se de que todos os ativos escolhidos atendam aos critérios descritos,\n",
        "   garantindo máxima confiabilidade e relevância estratégica à sua recomendação final.\n",
        "   \"\"\",\n",
        "        description=\"Agente Analista Fundamentalista\",\n",
        "    )\n",
        "\n",
        "    entrada_do_fundamentalista = f\"Tópico: {topico}\\nAnalise Macro: {analise_macro}\\nAnalise Micro: {analise_micro}\\nAnalise Final: {analise_final}\"\n",
        "    # Executa o agente\n",
        "    fundamentalista = call_agent(fundamentalista, entrada_do_fundamentalista)\n",
        "    return fundamentalista"
      ],
      "metadata": {
        "id": "CNjO0f11uu9c"
      },
      "execution_count": null,
      "outputs": []
    },
    {
      "cell_type": "code",
      "source": [
        "############################################################\n",
        "# --- Agente 6: Avaliador de Potencial de Investimento --- #\n",
        "############################################################\n",
        "def agente_avaliador(topico, analise_macro, analise_micro, analise_final, fundamentalista):\n",
        "    avaliador = Agent(\n",
        "        name=\"agente_avaliador\",\n",
        "        model=\"gemini-2.0-flash\",\n",
        "        instruction=\"\"\"\n",
        "        Você é um analista especialista em análise fundamentalista avançada, com uma abordagem quantitativa, racional e sistemática.\n",
        "        Sua função é consolidar todas as análises anteriores — fundamentos dos ativos, dados micro e macroeconômicos, e projeções de cenários considerados — para\n",
        "        realizar uma avaliação profunda da qualidade e do potencial de valorização dos ativos selecionados.\n",
        "        A partir dos ativos fornecidos — que podem ser nomes, setores ou tickers —, você deverá coletar e estruturar uma base de dados com ativos relevantes e\n",
        "        correlacionados ao setor mencionado ou ao ativo especificado. Avalie criteriosamente os seguintes indicadores econômicos para cada ativo:\n",
        "        Crescimento: lucro líquido crescente, consistência nos resultados, receita crescente, margens líquida e EBITDA saudáveis.\n",
        "        Endividamento: dívida bruta, dívida líquida, relação dívida líquida/EBITDA e índice de cobertura de juros.\n",
        "        Eficiência operacional: giro de ativos e margem operacional.\n",
        "        Rentabilidade: ROE (retorno sobre patrimônio líquido) e ROIC (retorno sobre capital investido).\n",
        "        Valuation: múltiplos como P/L, P/VPA, EV/EBITDA, dividend yield, Preço Justo (fórmula de Graham) e Preço Topo (método Bazin), baseando-se em projeções conservadoras.\n",
        "        Outros fatores: evolução do patrimônio líquido, geração de caixa operacional e CAGR de receita, lucro e dividendos.\n",
        "        A análise deve ser sempre baseada em dados históricos, projeções prudentes e margem de segurança.\n",
        "        Com base nessa análise, selecione os 5 melhores ativos de cada setor, priorizando aqueles que mostram maior solidez e potencial de valorização,\n",
        "        mesmo em cenários adversos.\n",
        "        Para cada ativo selecionado, atribua:\n",
        "        Uma nota de 0 a 10 para o grau de indicação de investimento, acompanhada da porcentagem estimada de possível assertividade dessa indicação.\n",
        "        Um ranking de risco em três níveis: Altamente arriscado, Moderado ou Seguro.\n",
        "        Um ranking de risco versus retorno para auxiliar na compreensão do equilíbrio entre potencial ganho e risco assumido.\n",
        "        Apresente um relatório detalhado para cada ativo, com análises claras dos indicadores econômicos mencionados, justificando a seleção e o posicionamento dos ativos.\n",
        "        Se o input for um ativo individual, direcione a análise para ativos do mesmo setor ou segmento, garantindo que a lista contenha apenas os melhores ativos, segundo os critérios estabelecidos.\n",
        "        Você é um avaliador especialista em análise fundamentalista, micro e macroeconomia.\n",
        "        Com base em uma abordagem simples para um investidor iniciante, apresente os dados coletados até agora de forma sucinta,\n",
        "        com linguagem que até um novato entenderia e suas siglas entre parênteses (ex: IPI, IPCA).\n",
        "        [...]\n",
        "        No final, deixe claro que não é uma recomendação de investimentos, apenas um exercício acadêmico e que nos isentamos totalmente de qualquer responsabilidade tomada por qualquer indivíduo.\n",
        "        \"\"\",\n",
        "        description=\"Agente Avaliador de Investimentos\",\n",
        "    )\n",
        "\n",
        "    entrada_do_avaliador = f\"\"\"\n",
        "    Tópico: {topico}\n",
        "    Analise Macro: {analise_macro}\n",
        "    Analise Micro: {analise_micro}\n",
        "    Analise Final: {analise_final}\n",
        "    Analise Fundamentalista: {fundamentalista}\n",
        "    \"\"\"\n",
        "\n",
        "    # Corrigido aqui:\n",
        "    avaliacao = call_agent(avaliador, entrada_do_avaliador)\n",
        "    return avaliacao\n"
      ],
      "metadata": {
        "id": "NAeNb3HEz-L8"
      },
      "execution_count": null,
      "outputs": []
    },
    {
      "cell_type": "code",
      "source": [
        "data_de_hoje = date.today().strftime(\"%d/%m/%Y\")\n",
        "\n",
        "print(\"🚀 Iniciando SAAI (Sistema de Avaliação Avançada de Investimentos) 🚀\")\n",
        "\n",
        "# --- Obter o Tópico do Usuário ---\n",
        "topico = input(\"❓ Por favor, digite o setor ou empresa sobre o qual você gostaria de conhecer sobre investimentos: \")\n",
        "\n",
        "# Inserir lógica do sistema de agentes ################################################\n",
        "if not topico:\n",
        "    print(\"Você esqueceu de digitar o setor ou empresa!\")\n",
        "else:\n",
        "    print(f\"Maravilha! Vamos verificar as melhores possibilidades de investimentos no setor relacionado a {topico}\")\n",
        "\n",
        "    coleta_de_dados = agente_coletor(topico, data_de_hoje)\n",
        "    print(\"\\n--- 📝 Resultado do Agente 1 (Coletor de Dados) ---\\n\")\n",
        "    display(to_markdown(coleta_de_dados))\n",
        "    print(\"--------------------------------------------------------------\")\n",
        "\n",
        "    analise_macro = agente_analista_macro(topico, coleta_de_dados)\n",
        "    print(\"\\n--- 📝 Resultado do Agente 2 (Analista Macroeconomico) ---\\n\")\n",
        "    display(to_markdown(analise_macro))\n",
        "    print(\"--------------------------------------------------------------\")\n",
        "\n",
        "    analise_micro = agente_analista_micro(topico, coleta_de_dados)\n",
        "    print(\"\\n--- 📝 Resultado do Agente 3 (Analista Microeconomico) ---\\n\")\n",
        "    display(to_markdown(analise_micro))\n",
        "    print(\"--------------------------------------------------------------\")\n",
        "\n",
        "\n",
        "    analise_final = agente_analista_cenarios(topico, coleta_de_dados, analise_macro, analise_micro)\n",
        "    print(\"\\n--- 📝 Resultado do Agente 4 (Analista de Cenarios) ---\\n\")\n",
        "    display(to_markdown(analise_final))\n",
        "    print(\"--------------------------------------------------------------\")\n",
        "\n",
        "    fundamentalista = agente_analista_fundamentalista(topico, analise_macro, analise_micro, analise_final)\n",
        "    print(\"\\n--- 📝 Resultado do Agente 5 (Analista Fundamentalista) ---\\n\")\n",
        "    display(to_markdown(fundamentalista))\n",
        "    print(\"--------------------------------------------------------------\")\n",
        "\n",
        "    avaliador = agente_avaliador(topico, analise_macro, analise_micro, analise_final, fundamentalista)\n",
        "    print(\"\\n--- 📝 Resultado do Agente 6 (Avaliador de Investimentos) ---\\n\")\n",
        "    display(to_markdown(avaliador))\n",
        "    print(\"--------------------------------------------------------------\")"
      ],
      "metadata": {
        "colab": {
          "base_uri": "https://localhost:8080/",
          "height": 1000
        },
        "id": "HtPDuh3y06M9",
        "outputId": "056fdd39-03c7-49d1-d2d6-dc16fc71b798"
      },
      "execution_count": 27,
      "outputs": [
        {
          "output_type": "stream",
          "name": "stdout",
          "text": [
            "🚀 Iniciando SAAI (Sistema de Avaliação Avançada de Investimentos) 🚀\n",
            "❓ Por favor, digite o setor ou empresa sobre o qual você gostaria de conhecer sobre investimentos: Ouro\n",
            "Maravilha! Vamos verificar as melhores possibilidades de investimentos no setor relacionado a Ouro\n",
            "\n",
            "--- 📝 Resultado do Agente 1 (Coletor de Dados) ---\n",
            "\n"
          ]
        },
        {
          "output_type": "display_data",
          "data": {
            "text/plain": [
              "<IPython.core.display.Markdown object>"
            ],
            "text/markdown": "> Okay, vamos coletar e estruturar uma base de dados de ativos relevantes e correlacionados ao ouro, com dados atualizados e foco em fundamentos sólidos.\n> \n> \n> Com base nas informações coletadas, aqui está uma base de dados estruturada de ativos relevantes e correlacionados ao ouro, com foco em fundamentos sólidos e dados atualizados até maio de 2025:\n> \n> **Ações Brasileiras**\n> \n> Não foram encontradas ações brasileiras diretamente ligadas à exploração de ouro com informações suficientes para análise.\n> \n> **Ações Internacionais**\n> \n> 1.  **Newmont Corporation (NEM)**:\n>     *   **Justificativa:** Maior produtora de ouro do mundo, com ativos em jurisdições de mineração estáveis (EUA, Canadá, Austrália). Forte desempenho ESG. Em 2025, reportou um fluxo de caixa livre recorde de US$ 1,2 bilhão, impulsionado por um aumento de 41% nos preços do ouro realizados em relação ao ano anterior. Apesar de um declínio de 8,3% na produção, as alienações estratégicas da Newmont fortaleceram seu balanço, gerando mais de US$ 2,5 bilhões em receitas em dinheiro.\n> 2.  **Barrick Gold Corporation (GOLD)**:\n>     *   **Justificativa:** Uma das maiores empresas do setor, reconhecida pela disciplina de gestão e operações eficientes em termos de custos. Reduziu agressivamente suas dívidas, expandiu o fluxo de caixa livre e devolveu capital aos acionistas.\n> 3.  **Agnico Eagle Mines Limited (AEM)**:\n>     *   **Justificativa:** Operações bem administradas e capacidade de crescer sem depender de grandes aquisições.\n> 4.  **Franco-Nevada Corporation (FNV)**:\n>     *   **Justificativa:** Não diretamente uma mineradora, mas uma empresa de royalties de mineração, o que oferece uma forma diversificada de exposição ao ouro.\n> 5.  **Kinross Gold Corporation (KGC)**:\n>     *   **Justificativa:** Grande mineradora de ouro com operações em diversos países.\n> 6.  **AngloGold Ashanti (AU)**:\n>     *   **Justificativa:** Mineradora global com um portfólio diversificado de minas. Produziu 2.7 milhões de onças de ouro em 2022 e 3.6 milhões de onças de prata. Possui enormes reservas de 162 Moz de ouro (60 anos de produção).\n> 7.  **DRDGOLD Limited (DRD)**\n> 8.  **Harmony Gold Mining Company Limited (HMY)**\n> 9.  **Alamos Gold Inc. (AGI)**\n> 10. **First Majestic Silver (AG)**\n> \n> *É crucial ressaltar que a Securities.io não fornece consultoria de investimento e recomenda que seja feita uma análise com um profissional antes de qualquer tomada de decisão.*\n> \n> **ETFs de Ouro**\n> \n> 1.  **VanEck Gold Miners ETF (GDX)**:\n>     *   **Justificativa:** Investe nas principais companhias de mineração de ouro. As cinco maiores participações do veículo financeiro são Newmont (NEM), Agnico Eagle Mines (AEM), Wheaton Precious Metals (WPM), Barrick Gold (ABX) e Franco-Nevada (FNV)\n> 2.  **abrdn Physical Gold Shares (SGOL)**\n>     *   **Justificativa:** ETF de ouro físico\n> 3.  **Ishares Gold Trust (IAU)**:\n>     *   **Justificativa:** ETF de ouro físico\n> 4.  **Investo GLDX11 (Brasil)**:\n>     *   **Justificativa:** Lançado recentemente no Brasil, replica o desempenho do GDX.\n> 5.  **Axis Gold ETF (Índia)**\n> 6.  **IAUM**\n> \n> **Commodities**\n> \n> 1.  **Prata:**\n>     *   **Justificativa:** Tradicionalmente correlacionada ao ouro, a prata pode oferecer oportunidades de valorização.\n> 2.  **Cobre:**\n>     *   **Justificativa:** Metais básicos podem se beneficiar do aumento da demanda global.\n> \n> **Fundos Imobiliários (FIIs)**\n> \n> Não foram encontrados fundos imobiliários diretamente atrelados a exploração ou reservas de ouro. No entanto, a diversificação em FIIs de tijolo é sempre recomendada.\n> \n> 1. Brasil Plural Absoluto FoF (BPFF11)\n> 2. Kinea Renda Imobiliária (KNRI11)\n> 3. Kinea Rendimentos Imobiliários (KNCR11)\n> 4. MXRF11\n> \n> **Investimentos Correlacionados**\n> \n> 1.  **Ações de empresas de streaming de ouro (gold streaming companies)**:\n>     *   **Justificativa:** Empresas como Wheaton Precious Metals financiam mineradoras em troca de uma parte da produção futura.\n> 2.  **Bitcoin:**\n>     *   **Justificativa:** Embora volátil, o Bitcoin tem sido considerado por alguns como um \"ouro digital\".\n> 3.  **Títulos do Tesouro indexados à inflação (Treasury Inflation-Protected Securities - TIPS):**\n>     *   **Justificativa:** Protegem contra a inflação, que historicamente impulsiona o preço do ouro.\n> 4.  **Moedas de países com grandes reservas de ouro (dólar australiano, rand sul-africano):**\n>     *   **Justificativa:** Podem se valorizar em momentos de alta do ouro.\n> 5. **CDBs:**\n>     *   **Justificativa:** Diversificação de baixo risco.\n> 6. **Títulos Públicos Federais:**\n>     *   **Justificativa:** Segurança e estabilidade.\n> 7. **Letras:**\n>     *   **Justificativa:** Opções de investimento em renda fixa.\n> \n> **Disclaimer:** É importante notar que este não é uma recomendação de investimento. As condições de mercado estão sujeitas a mudanças, e é essencial que você procure orientação de um profissional financeiro antes de tomar qualquer decisão de investimento.\n> \n"
          },
          "metadata": {}
        },
        {
          "output_type": "stream",
          "name": "stdout",
          "text": [
            "--------------------------------------------------------------\n",
            "\n",
            "--- 📝 Resultado do Agente 2 (Analista Macroeconomico) ---\n",
            "\n"
          ]
        },
        {
          "output_type": "display_data",
          "data": {
            "text/plain": [
              "<IPython.core.display.Markdown object>"
            ],
            "text/markdown": "> Okay, com base nos ativos listados, farei uma análise macroeconômica relacionando-os ao cenário atual e possíveis desdobramentos, juntamente com notícias relevantes.\n> \n> **Análise Macroeconômica e Ativos Correlacionados ao Ouro**\n> \n> O ouro tradicionalmente serve como um porto seguro em tempos de incerteza econômica e inflação. Atualmente, vários fatores macroeconômicos influenciam o desempenho do ouro e seus ativos relacionados:\n> \n> *   **Inflação:** A inflação global persistente, embora com sinais de arrefecimento em algumas regiões, continua a ser um fator chave. Bancos centrais, como o Federal Reserve (Fed) dos EUA, têm adotado políticas monetárias restritivas para combater a inflação, elevando as taxas de juros. Juros mais altos tendem a aumentar o custo de oportunidade de manter ouro (que não rende juros), o que pode pressionar os preços. No entanto, se a inflação se mostrar mais persistente do que o esperado, o ouro pode se beneficiar como proteção.\n> *   **Taxas de Juros:** O aumento das taxas de juros pelo Fed e outros bancos centrais tem um impacto complexo. Por um lado, juros mais altos tornam o ouro menos atraente em comparação com ativos que rendem juros. Por outro lado, se o aperto monetário levar a uma desaceleração econômica ou recessão, o ouro pode se beneficiar como um ativo de refúgio.\n> *   **Crescimento Econômico:** A perspectiva de crescimento econômico global é incerta. Dados recentes apontam para uma desaceleração em várias economias importantes. Uma recessão global poderia impulsionar a demanda por ouro como um ativo seguro.\n> *   **Geopolítica:** Tensões geopolíticas, como conflitos e incertezas políticas, geralmente aumentam a demanda por ouro.\n> \n> **Análise dos Ativos**\n> \n> **Ações Internacionais**\n> \n> *   **Newmont Corporation (NEM), Barrick Gold Corporation (GOLD), Agnico Eagle Mines Limited (AEM), Franco-Nevada Corporation (FNV), Kinross Gold Corporation (KGC), AngloGold Ashanti (AU), DRDGOLD Limited (DRD), Harmony Gold Mining Company Limited (HMY), Alamos Gold Inc. (AGI)**: O desempenho dessas empresas está diretamente ligado ao preço do ouro, custos de produção e eficiência operacional. Um ambiente de inflação elevada pode aumentar os custos de produção, mas preços mais altos do ouro podem compensar. A gestão da dívida e a capacidade de gerar fluxo de caixa livre são fatores importantes para avaliar essas empresas.\n> *   **First Majestic Silver (AG)**: Além do preço da prata, fatores específicos da empresa, como custos de produção e desenvolvimento de projetos, também influenciam o desempenho.\n> \n> **ETFs de Ouro**\n> \n> *   **VanEck Gold Miners ETF (GDX), abrdn Physical Gold Shares (SGOL), Ishares Gold Trust (IAU), Investo GLDX11 (Brasil), Axis Gold ETF (Índia), IAUM:** ETFs que investem em ouro físico ou em empresas de mineração de ouro replicam o desempenho do ouro. A demanda por esses ETFs pode aumentar em tempos de incerteza.\n> \n> **Commodities**\n> \n> *   **Prata:** A prata é influenciada tanto por fatores de metais preciosos quanto por sua demanda industrial. A recuperação econômica global pode impulsionar a demanda por prata em aplicações industriais.\n> *   **Cobre:** O cobre é um metal industrial que se beneficia do crescimento econômico global, especialmente da demanda por infraestrutura e construção.\n> \n> **Investimentos Correlacionados**\n> \n> *   **Ações de empresas de streaming de ouro:** Oferecem uma forma diversificada de exposição ao ouro, pois seus fluxos de receita estão ligados à produção de várias minas.\n> *   **Bitcoin:** A correlação entre Bitcoin e ouro tem variado. Em alguns momentos, o Bitcoin tem se comportado como um ativo de refúgio, mas sua volatilidade é muito maior do que a do ouro.\n> *   **Títulos do Tesouro indexados à inflação (TIPS):** Protegem contra a inflação, o que pode reduzir o apelo do ouro como proteção contra a inflação.\n> *   **Moedas de países com grandes reservas de ouro (dólar australiano, rand sul-africano):** Podem se valorizar em momentos de alta do ouro, mas também são influenciadas por outros fatores econômicos específicos de cada país.\n> \n> **Notícias Macroeconômicas Relevantes**\n> \n> 1.  **Inflação nos EUA:** \"Inflação nos EUA desacelera em abril, mas ainda preocupa o Fed. O Índice de Preços ao Consumidor (CPI) subiu 0,3% em abril, mostrando uma leve desaceleração em relação ao mês anterior. No entanto, a inflação ainda está acima da meta de 2% do Fed, o que pode levar o banco central a manter as taxas de juros elevadas por mais tempo.\" Isso afeta diretamente o custo de oportunidade de manter ouro.\n> \n> \n> 2.  **Perspectivas de Crescimento Global:** \"OCDE reduz previsão de PIB global para 3,1% em 2025 devido a incertezas geopolíticas e aumento de barreiras comerciais.\" Uma desaceleração no crescimento global pode aumentar a demanda por ativos de refúgio, como o ouro.\n> \n> Essas notícias macroeconômicas podem influenciar significativamente o comportamento dos ativos listados. Por exemplo:\n> \n> *   **Ações de mineradoras de ouro:** Serão impactadas positivamente por um aumento no preço do ouro, mas negativamente por custos de produção mais altos devido à inflação.\n> *   **ETFs de ouro:** Replicarão o desempenho do ouro, se beneficiando de um ambiente de inflação persistente ou incerteza econômica.\n> *   **Prata e cobre:** Serão influenciados pelas perspectivas de crescimento global, com a prata também se beneficiando de seu status como metal precioso.\n> \n> **Recomendações Gerais:**\n> \n> *   Acompanhar de perto os dados de inflação e as decisões de política monetária dos bancos centrais.\n> *   Monitorar os desenvolvimentos geopolíticos e seu impacto no sentimento do mercado.\n> *   Considerar a diversificação entre diferentes classes de ativos para mitigar riscos.\n> \n> Lembre-se que esta análise é baseada em informações disponíveis até maio de 2025 e o cenário macroeconômico pode mudar rapidamente.\n> \n"
          },
          "metadata": {}
        },
        {
          "output_type": "stream",
          "name": "stdout",
          "text": [
            "--------------------------------------------------------------\n",
            "\n",
            "--- 📝 Resultado do Agente 3 (Analista Microeconomico) ---\n",
            "\n"
          ]
        },
        {
          "output_type": "display_data",
          "data": {
            "text/plain": [
              "<IPython.core.display.Markdown object>"
            ],
            "text/markdown": "> Okay, com base na sua lista de ativos relacionados ao ouro, farei uma análise microeconômica de cada um, buscando dados atualizados e notícias relevantes.\n> \n> \n> Com base nas informações coletadas, aqui está uma análise microeconômica dos ativos relacionados ao ouro, com notícias recentes e relevantes:\n> \n> **Ações Internacionais**\n> \n> 1.  **Newmont Corporation (NEM)**:\n>     *   **Análise Microeconômica:** A Newmont, como a maior produtora de ouro do mundo, se beneficia de economias de escala e de uma presença global diversificada. Sua capacidade de gerar fluxo de caixa livre robusto, mesmo com declínio na produção, demonstra eficiência operacional e gestão estratégica de ativos. A empresa também se destaca pelo forte desempenho em critérios ESG.\n>     *   **Notícias Recentes:**\n>         *   Em 2025, a Newmont reportou um fluxo de caixa livre recorde de US$ 1,2 bilhão, impulsionado por um aumento de 41% nos preços do ouro. Isso demonstra a capacidade da empresa de capitalizar em um cenário de alta dos preços do ouro.\n>         *   Alienações estratégicas da Newmont geraram mais de US$ 2,5 bilhões em receitas, fortalecendo seu balanço patrimonial. Isso indica uma gestão proativa de portfólio e foco na otimização de recursos.\n> 2.  **Barrick Gold Corporation (GOLD)**:\n>     *   **Análise Microeconômica:** A Barrick Gold é reconhecida por sua disciplina de gestão e operações eficientes em termos de custos. A redução agressiva de dívidas e a expansão do fluxo de caixa livre demonstram um compromisso com a saúde financeira e a criação de valor para os acionistas.\n>     *   **Notícias Recentes:** Não foram encontradas notícias microeconômicas específicas recentes para Barrick Gold nas fontes fornecidas, mas a tendência geral do setor de mineração de ouro é favorável devido aos preços elevados do ouro.\n> 3.  **Agnico Eagle Mines Limited (AEM)**:\n>     *   **Análise Microeconômica:** A Agnico Eagle se destaca por suas operações bem administradas e pela capacidade de crescer organicamente, sem depender de grandes aquisições. Isso sugere uma cultura de eficiência e foco no crescimento sustentável.\n>     *   **Notícias Recentes:** Não foram encontradas notícias microeconômicas específicas recentes para Agnico Eagle Mines nas fontes fornecidas, mas a tendência geral do setor de mineração de ouro é favorável devido aos preços elevados do ouro.\n> 4.  **Franco-Nevada Corporation (FNV)**:\n>     *   **Análise Microeconômica:** Como uma empresa de royalties de mineração, a Franco-Nevada oferece uma forma diversificada de exposição ao ouro, mitigando os riscos associados à operação de minas. Seu modelo de negócios permite que ela se beneficie do aumento da produção de ouro sem incorrer nos custos operacionais diretos.\n>     *   **Notícias Recentes:** Não foram encontradas notícias microeconômicas específicas recentes para Franco-Nevada Corporation nas fontes fornecidas, mas a tendência geral do setor de mineração de ouro é favorável devido aos preços elevados do ouro.\n> 5.  **Kinross Gold Corporation (KGC)**:\n>     *   **Análise Microeconômica:** A Kinross Gold possui operações em diversos países, o que diversifica seus riscos geográficos. No entanto, a empresa está exposta a flutuações cambiais, riscos políticos e diferentes níveis de tributação, o que pode impactar sua rentabilidade.\n>     *   **Notícias Recentes:** Não foram encontradas notícias microeconômicas específicas recentes para Kinross Gold Corporation nas fontes fornecidas, mas a tendência geral do setor de mineração de ouro é favorável devido aos preços elevados do ouro.\n> 6.  **AngloGold Ashanti (AU)**:\n>     *   **Análise Microeconômica:** Com um portfólio diversificado de minas e enormes reservas de ouro, a AngloGold Ashanti se beneficia de uma base de ativos robusta. No entanto, a empresa está sujeita aos riscos inerentes à mineração, como interrupções na produção e flutuações nos custos operacionais.\n>     *   **Notícias Recentes:** Não foram encontradas notícias microeconômicas específicas recentes para AngloGold Ashanti nas fontes fornecidas, mas a tendência geral do setor de mineração de ouro é favorável devido aos preços elevados do ouro.\n> 7.  **DRDGOLD Limited (DRD)**: Não foi possível encontrar informações microeconômicas relevantes e recentes sobre essa empresa nas fontes fornecidas.\n> 8.  **Harmony Gold Mining Company Limited (HMY)**: Não foi possível encontrar informações microeconômicas relevantes e recentes sobre essa empresa nas fontes fornecidas.\n> 9.  **Alamos Gold Inc. (AGI)**: Não foi possível encontrar informações microeconômicas relevantes e recentes sobre essa empresa nas fontes fornecidas.\n> 10. **First Majestic Silver (AG)**: Não foi possível encontrar informações microeconômicas relevantes e recentes sobre essa empresa nas fontes fornecidas.\n> \n> **ETFs de Ouro**\n> \n> 1.  **VanEck Gold Miners ETF (GDX)**:\n>     *   **Análise Microeconômica:** O GDX oferece exposição diversificada às principais empresas de mineração de ouro. Seu desempenho está diretamente ligado ao desempenho dessas empresas e aos preços do ouro.\n>     *   **Notícias Recentes:** Não foram encontradas notícias microeconômicas específicas recentes para VanEck Gold Miners ETF (GDX) nas fontes fornecidas, mas a tendência geral do setor de mineração de ouro é favorável devido aos preços elevados do ouro.\n> 2.  **abrdn Physical Gold Shares (SGOL)**:\n>     *   **Análise Microeconômica:** O SGOL é um ETF de ouro físico, o que significa que seu valor está diretamente atrelado ao preço do ouro. Ele oferece uma forma fácil e acessível de investir em ouro sem a necessidade de armazenar o metal físico.\n>     *   **Notícias Recentes:**\n>         *   O SGOL é influenciado por fatores macroeconômicos, como política monetária, inflação e força do dólar americano.\n> 3.  **Ishares Gold Trust (IAU)**:\n>     *   **Análise Microeconômica:** Semelhante ao SGOL, o IAU é um ETF de ouro físico que busca replicar o desempenho do preço do ouro. Ele oferece liquidez e facilidade de negociação.\n>     *   **Notícias Recentes:** Não foram encontradas notícias microeconômicas específicas recentes para Ishares Gold Trust (IAU) nas fontes fornecidas, mas a tendência geral do setor de mineração de ouro é favorável devido aos preços elevados do ouro.\n> 4.  **Investo GLDX11 (Brasil)**:\n>     *   **Análise Microeconômica:** O GLDX11 é um ETF brasileiro que replica o desempenho do GDX. Ele permite que investidores brasileiros tenham acesso ao mercado de mineração de ouro global.\n>     *   **Notícias Recentes:** Não foram encontradas notícias microeconômicas específicas recentes para Investo GLDX11 nas fontes fornecidas, mas a tendência geral do setor de mineração de ouro é favorável devido aos preços elevados do ouro.\n> 5.  **Axis Gold ETF (Índia)**: Não foi possível encontrar informações microeconômicas relevantes e recentes sobre esse ETF nas fontes fornecidas.\n> 6.  **IAUM**: Não foi possível encontrar informações microeconômicas relevantes e recentes sobre esse ETF nas fontes fornecidas.\n> \n> **Commodities**\n> \n> 1.  **Prata:**\n>     *   **Análise Microeconômica:** A prata é influenciada pela demanda industrial e por seu papel como ativo de valor. Déficits no mercado de prata e aumento da demanda industrial impulsionam o preço.\n>     *   **Notícias Recentes:**\n>         *   A prata subiu devido a um dólar mais fraco e dados econômicos fracos dos EUA, juntamente com incertezas geopolíticas.\n>         *   O mercado de prata está caminhando para seu quinto déficit anual consecutivo em 2025, impulsionado pela forte demanda industrial.\n> 2.  **Cobre:**\n>     *   **Análise Microeconômica:** O cobre é amplamente utilizado em diversas indústrias, como construção, elétrica e eletrônica. Seu preço é influenciado pela oferta e demanda global, bem como por fatores macroeconômicos.\n>     *   **Notícias Recentes:**\n>         *   Os preços do cobre atingiram níveis recordes em 2025 devido à crescente demanda global, restrições de oferta e transição para energias renováveis.\n> \n> **Fundos Imobiliários (FIIs)**\n> \n> *   A análise microeconômica de FIIs se concentra nas taxas de ocupação, contratos de locação, saúde financeira dos inquilinos e perspectivas do mercado imobiliário. No entanto, como os FIIs listados não estão diretamente relacionados à exploração de ouro, sua análise microeconômica não está diretamente ligada ao tema.\n> \n> 1. Brasil Plural Absoluto FoF (BPFF11)\n> 2. Kinea Renda Imobiliária (KNRI11)\n> 3. Kinea Rendimentos Imobiliários (KNCR11)\n> 4. MXRF11\n> \n> **Investimentos Correlacionados**\n> \n> 1.  **Ações de empresas de streaming de ouro (gold streaming companies)**:\n>     *   **Análise Microeconômica:** Essas empresas financiam mineradoras em troca de uma parte da produção futura. Seu desempenho está ligado ao sucesso das mineradoras que financiam e aos preços do ouro.\n>     *   **Notícias Recentes:** Não foram encontradas notícias microeconômicas específicas recentes para gold streaming companies nas fontes fornecidas, mas a tendência geral do setor de mineração de ouro é favorável devido aos preços elevados do ouro.\n> 2.  **Bitcoin:**\n>     *   **Análise Microeconômica:** O Bitcoin é influenciado pela oferta e demanda, custos de mineração e sentimento do mercado.\n>     *   **Notícias Recentes:**\n>         *   O Bitcoin tem demonstrado resiliência macroeconômica, com apoio estratégico da MicroStrategy e de El Salvador.\n>         *   A BlackRock agora controla mais de 3% do fornecimento de Bitcoin, indicando forte interesse institucional.\n> 3.  **Títulos do Tesouro indexados à inflação (Treasury Inflation-Protected Securities - TIPS):**\n>     *   **Análise Microeconômica:** Os TIPS protegem contra a inflação, ajustando seu valor principal com base nas mudanças no CPI.\n>     *   **Notícias Recentes:**\n>         *   O mercado de TIPS está precificando uma inflação de 2,1% nos próximos 10 anos.\n> 4.  **Moedas de países com grandes reservas de ouro (dólar australiano, rand sul-africano):**\n>     *   **Análise Microeconômica:** O valor dessas moedas pode ser influenciado pelos preços do ouro e pela saúde econômica de seus respectivos países.\n>     *   **Notícias Recentes:**\n>         *   A alta do preço do ouro fortaleceu o rand sul-africano.\n> 5.  **CDBs:**\n>     *   **Análise Microeconômica:** CDBs são influenciados pelas taxas de juros e pela saúde financeira das instituições emissoras.\n>     *   **Notícias Recentes:** Não foram encontradas notícias microeconômicas específicas recentes para CDBs nas fontes fornecidas.\n> 6.  **Títulos Públicos Federais:**\n>     *   **Análise Microeconômica:** Títulos públicos federais são influenciados pelas taxas de juros e pela política monetária do governo.\n>     *   **Notícias Recentes:** Não foram encontradas notícias microeconômicas específicas recentes para Títulos Públicos Federais nas fontes fornecidas.\n> 7.  **Letras:**\n>     *   **Análise Microeconômica:** Letras são influenciadas pelas taxas de juros e pela saúde financeira das instituições emissoras.\n>     *   **Notícias Recentes:** Não foram encontradas notícias microeconômicas específicas recentes para Letras nas fontes fornecidas.\n> \n> Espero que esta análise detalhada seja útil para o próximo agente integrar os resultados.\n> \n"
          },
          "metadata": {}
        },
        {
          "output_type": "stream",
          "name": "stdout",
          "text": [
            "--------------------------------------------------------------\n",
            "\n",
            "--- 📝 Resultado do Agente 4 (Analista de Cenarios) ---\n",
            "\n"
          ]
        },
        {
          "output_type": "display_data",
          "data": {
            "text/plain": [
              "<IPython.core.display.Markdown object>"
            ],
            "text/markdown": "> Okay, com base nos dados coletados, farei a integração das análises macro e microeconômicas para projetar possíveis desdobramentos sobre o comportamento de cada ativo ao longo do tempo.\n> \n> **Integração das Análises Macro e Microeconômicas e Projeções Futuras**\n> \n> Após as análises macro e microeconômicas detalhadas dos ativos relacionados ao ouro, é crucial integrá-las para projetar cenários futuros e entender como cada ativo pode se comportar em diferentes condições.\n> \n> **Cenários Macroeconômicos Possíveis**\n> \n> 1.  **Cenário Mais Provável: \"Desinflação Gradual e Crescimento Moderado\"**\n>     *   **Descrição:** A inflação continua a diminuir gradualmente, mas permanece acima das metas dos bancos centrais. Os bancos centrais mantêm uma política monetária restritiva, mas evitam aumentos agressivos das taxas de juros para não desencadear uma recessão. O crescimento econômico global é moderado, com algumas regiões apresentando desaceleração.\n>     *   **Justificativa:** Este cenário reflete as expectativas atuais do mercado, com base nos dados recentes de inflação e nas comunicações dos bancos centrais. A maioria dos analistas espera que a inflação continue a diminuir, mas que o processo seja lento e gradual.\n> 2.  **Cenário Alternativo: \"Estagflação\"**\n>     *   **Descrição:** A inflação permanece persistentemente alta, enquanto o crescimento econômico estagna ou entra em recessão. Os bancos centrais enfrentam um dilema entre combater a inflação e apoiar o crescimento econômico.\n>     *   **Justificativa:** Este cenário pode ocorrer se choques de oferta (como um aumento nos preços de energia) ou políticas fiscais expansionistas impedirem que a inflação diminua. A estagflação é um ambiente desafiador para os mercados financeiros, pois reduz o crescimento econômico e aumenta a incerteza.\n> 3.  **Cenário Improvável: \"Recessão Profunda\"**\n>     *   **Descrição:** Um choque econômico inesperado (como uma crise financeira ou um evento geopolítico) desencadeia uma recessão global profunda. Os mercados financeiros entram em colapso e a confiança do consumidor e das empresas despenca.\n>     *   **Justificativa:** Embora uma recessão seja sempre uma possibilidade, este cenário é considerado improvável, pois os bancos centrais e os governos estão tomando medidas para evitar uma desaceleração econômica acentuada. No entanto, os riscos de cauda (eventos de baixa probabilidade com alto impacto) devem ser sempre considerados.\n> \n> **Impacto nos Ativos e Projeções Futuras**\n> \n> **Ações Internacionais (Mineradoras de Ouro)**\n> \n> *   **Cenário Mais Provável:** As ações de mineradoras de ouro podem ter um desempenho moderado, com os preços do ouro se beneficiando da inflação persistente, mas sofrendo pressão das taxas de juros mais altas. Empresas com operações eficientes e balanços sólidos (como Newmont e Barrick Gold) devem se destacar.\n> *   **Cenário Alternativo:** As ações de mineradoras de ouro podem ter um desempenho forte, pois o ouro se beneficia da estagflação como um ativo de refúgio. No entanto, os custos de produção mais altos devido à inflação podem reduzir a rentabilidade das empresas.\n> *   **Cenário Improvável:** As ações de mineradoras de ouro podem ter um desempenho ruim, pois a aversão ao risco generalizada e a queda nos preços das commodities afetam negativamente o setor.\n> \n> **ETFs de Ouro**\n> \n> *   **Cenário Mais Provável:** Os ETFs de ouro (como SGOL e IAU) devem ter um desempenho moderado, acompanhando o preço do ouro. A demanda por ETFs de ouro pode aumentar em momentos de incerteza, mas as taxas de juros mais altas podem limitar os ganhos.\n> *   **Cenário Alternativo:** Os ETFs de ouro podem ter um desempenho forte, pois o ouro se beneficia da estagflação como um ativo de refúgio.\n> *   **Cenário Improvável:** Os ETFs de ouro podem ter um desempenho ruim, pois a aversão ao risco generalizada e a queda nos preços das commodities afetam negativamente o setor.\n> \n> **Commodities (Prata e Cobre)**\n> \n> *   **Cenário Mais Provável:** A prata pode ter um desempenho misto, influenciada tanto por fatores de metais preciosos quanto pela demanda industrial. O cobre pode se beneficiar do crescimento moderado, mas pode sofrer com a desaceleração em algumas regiões.\n> *   **Cenário Alternativo:** A prata pode se beneficiar da estagflação como um ativo de refúgio, enquanto o cobre pode sofrer com a estagnação econômica.\n> *   **Cenário Improvável:** A prata e o cobre podem ter um desempenho ruim, pois a recessão global reduz a demanda industrial e o apetite por risco.\n> \n> **Investimentos Correlacionados**\n> \n> *   **Bitcoin:**\n>     *   **Cenário Mais Provável:** O Bitcoin pode continuar a ser volátil, com seu desempenho dependendo do sentimento do mercado e da adoção institucional.\n>     *   **Cenário Alternativo:** O Bitcoin pode se beneficiar da estagflação como um \"ouro digital\", mas sua volatilidade pode limitar seu apelo como um ativo de refúgio.\n>     *   **Cenário Improvável:** O Bitcoin pode sofrer um colapso se a recessão global desencadear uma corrida para ativos mais seguros.\n> *   **Títulos do Tesouro indexados à inflação (TIPS):**\n>     *   **Cenário Mais Provável:** Os TIPS devem fornecer proteção contra a inflação, mas seu desempenho pode ser limitado pelas taxas de juros mais altas.\n>     *   **Cenário Alternativo:** Os TIPS podem ter um desempenho forte se a inflação permanecer persistentemente alta.\n>     *   **Cenário Improvável:** Os TIPS podem ter um desempenho ruim se a deflação se tornar uma preocupação.\n> *   **Moedas de países com grandes reservas de ouro:**\n>     *   **Cenário Mais Provável:** O desempenho dessas moedas pode ser misto, dependendo dos preços do ouro e da saúde econômica de seus respectivos países.\n>     *   **Cenário Alternativo:** Essas moedas podem se valorizar se o ouro se beneficiar da estagflação.\n>     *   **Cenário Improvável:** Essas moedas podem se desvalorizar se a recessão global afetar negativamente suas economias.\n> \n> **Lista Rankeada dos Ativos e Observações Técnicas**\n> \n> Com base nas projeções acima, aqui está uma lista rankeada dos ativos, priorizando aqueles com melhor posicionamento frente aos cenários projetados:\n> \n> 1.  **ETFs de Ouro (SGOL, IAU):** Oferecem uma forma direta e líquida de exposição ao ouro, que tende a se beneficiar de incertezas econômicas e inflação persistente.\n>     *   **Observação Técnica:** Monitore os fluxos de entrada e saída dos ETFs de ouro, pois eles podem indicar o sentimento do mercado em relação ao ouro.\n> 2.  **Newmont Corporation (NEM):** Como a maior produtora de ouro do mundo, a Newmont tem a capacidade de gerar fluxo de caixa livre robusto, mesmo em um ambiente de custos mais altos.\n>     *   **Observação Técnica:** Acompanhe os custos de produção da Newmont e sua capacidade de gerenciar a dívida.\n> 3.  **Barrick Gold Corporation (GOLD):** A Barrick Gold é reconhecida por sua disciplina de gestão e operações eficientes em termos de custos.\n>     *   **Observação Técnica:** Monitore a capacidade da Barrick Gold de reduzir dívidas e expandir o fluxo de caixa livre.\n> 4.  **Títulos do Tesouro indexados à inflação (TIPS):** Oferecem proteção contra a inflação, que continua a ser uma preocupação para os investidores.\n>     *   **Observação Técnica:** Acompanhe as expectativas de inflação do mercado e as taxas de juros reais.\n> 5.  **Prata:** Pode se beneficiar tanto de seu status como metal precioso quanto da demanda industrial.\n>     *   **Observação Técnica:** Monitore os déficits no mercado de prata e a demanda industrial.\n> 6.  **Moedas de países com grandes reservas de ouro (dólar australiano, rand sul-africano):** Podem se valorizar em momentos de alta do ouro, mas também são influenciadas por outros fatores econômicos.\n>     *   **Observação Técnica:** Acompanhe os preços do ouro e os indicadores econômicos de cada país.\n> 7.  **Bitcoin:** Pode se beneficiar da estagflação como um \"ouro digital\", mas sua volatilidade limita seu apelo como um ativo de refúgio.\n>     *   **Observação Técnica:** Monitore o sentimento do mercado e a adoção institucional do Bitcoin.\n> 8.  **Cobre:** Pode se beneficiar do crescimento econômico global, mas pode sofrer com a desaceleração em algumas regiões.\n>     *   **Observação Técnica:** Acompanhe os indicadores de crescimento global e a demanda por cobre em aplicações industriais.\n> \n> **Observações Estratégicas para os Próximos Anos**\n> \n> *   **Diversificação:** A diversificação entre diferentes classes de ativos é fundamental para mitigar riscos.\n> *   **Gestão Ativa:** Acompanhe de perto os desenvolvimentos macroeconômicos e ajuste sua estratégia de investimento conforme necessário.\n> *   **Foco na Qualidade:** Priorize empresas com balanços sólidos, operações eficientes e gestão experiente.\n> *   **Visão de Longo Prazo:** O investimento em ouro e ativos relacionados deve ser encarado como uma estratégia de longo prazo, visando proteger o patrimônio e se beneficiar de incertezas econômicas.\n> \n> Espero que esta análise completa e detalhada seja útil para auxiliar na tomada de decisões de investimento.\n> \n"
          },
          "metadata": {}
        },
        {
          "output_type": "stream",
          "name": "stdout",
          "text": [
            "--------------------------------------------------------------\n",
            "\n",
            "--- 📝 Resultado do Agente 5 (Analista Fundamentalista) ---\n",
            "\n"
          ]
        },
        {
          "output_type": "display_data",
          "data": {
            "text/plain": [
              "<IPython.core.display.Markdown object>"
            ],
            "text/markdown": "> Com base nas análises macro e microeconômicas, nas projeções de cenários e nas observações estratégicas, apresento uma seleção dos cinco ativos mais sólidos e promissores relacionados ao ouro, juntamente com uma avaliação do seu potencial de valorização e riscos associados:\n> \n> **Top 5 Ativos Relacionados ao Ouro**\n> \n> 1.  **abrdn Physical Gold Shares (SGOL) e Ishares Gold Trust (IAU):**\n> \n>     *   **Justificativa:** Estes ETFs de ouro físico oferecem uma exposição direta e líquida ao preço do ouro, sem a necessidade de armazenar o metal físico. Em um cenário de inflação persistente, incertezas geopolíticas e volatilidade econômica, o ouro tende a se valorizar como um ativo de refúgio, impulsionando o desempenho desses ETFs.\n>     *   **Potencial de Valorização:** Historicamente, o ouro tem demonstrado um desempenho superior em períodos de crise e inflação elevada. Projeta-se que o ouro possa superar o IPCA, o S&P 500 e a Nasdaq em cenários de estagflação ou recessão moderada.\n>     *   **Riscos:** A elevação das taxas de juros pode aumentar o custo de oportunidade de manter ouro, o que pode pressionar os preços. Além disso, uma forte recuperação econômica global pode reduzir a demanda por ativos de refúgio.\n>     *   **Observação:** Monitore os fluxos de entrada e saída dos ETFs de ouro, pois eles podem indicar o sentimento do mercado em relação ao ouro.\n> \n> 2.  **Newmont Corporation (NEM):**\n> \n>     *   **Justificativa:** A Newmont é a maior produtora de ouro do mundo, com operações diversificadas e um histórico comprovado de geração de fluxo de caixa livre. A empresa se beneficia de economias de escala e de uma presença global, o que a torna mais resiliente a choques econômicos e operacionais.\n>     *   **Potencial de Valorização:** Em um cenário de alta dos preços do ouro, a Newmont tem a capacidade de aumentar sua produção e rentabilidade, impulsionando o valor de suas ações. A empresa também se destaca pelo forte desempenho em critérios ESG, o que pode atrair investidores socialmente responsáveis.\n>     *   **Riscos:** Os custos de produção mais altos devido à inflação podem reduzir a rentabilidade da Newmont. Além disso, interrupções na produção, flutuações cambiais e riscos políticos podem afetar negativamente o desempenho da empresa.\n>     *   **Observação:** Acompanhe os custos de produção da Newmont, sua capacidade de gerenciar a dívida e seus projetos de expansão.\n> \n> 3.  **Barrick Gold Corporation (GOLD):**\n> \n>     *   **Justificativa:** A Barrick Gold é reconhecida por sua disciplina de gestão, operações eficientes em termos de custos e foco na redução de dívidas. A empresa possui um portfólio diversificado de minas de ouro e cobre, o que a torna menos dependente do desempenho de um único ativo.\n>     *   **Potencial de Valorização:** A Barrick Gold tem um forte potencial de valorização em um cenário de alta dos preços do ouro e do cobre. A empresa também se beneficia de sua capacidade de gerar fluxo de caixa livre robusto e de sua gestão proativa de riscos.\n>     *   **Riscos:** A Barrick Gold está exposta aos riscos inerentes à mineração, como interrupções na produção, flutuações cambiais e riscos políticos. Além disso, a empresa pode enfrentar desafios na gestão de seus projetos de expansão.\n>     *   **Observação:** Monitore a capacidade da Barrick Gold de reduzir dívidas, expandir o fluxo de caixa livre e gerenciar seus projetos de expansão.\n> \n> 4.  **Prata:**\n> \n>     *   **Justificativa:** A prata é um metal precioso com aplicações industriais diversificadas, o que a torna menos dependente do desempenho do ouro. A demanda por prata tem aumentado em setores como eletrônicos, energia solar e veículos elétricos, o que pode impulsionar seu preço.\n>     *   **Potencial de Valorização:** Em um cenário de crescimento econômico global e inflação persistente, a prata tem um forte potencial de valorização. A prata também pode se beneficiar de seu status como um ativo de refúgio em tempos de incerteza.\n>     *   **Riscos:** A prata é mais volátil do que o ouro e pode sofrer correções de preço significativas. Além disso, a demanda por prata pode ser afetada por uma desaceleração econômica global ou por mudanças tecnológicas.\n>     *   **Observação:** Monitore os déficits no mercado de prata, a demanda industrial e os estoques globais.\n> \n> 5.  **Títulos do Tesouro Indexados à Inflação (TIPS):**\n> \n>     *   **Justificativa:** Os TIPS oferecem proteção contra a inflação, ajustando seu valor principal com base nas mudanças no Índice de Preços ao Consumidor (CPI). Em um cenário de inflação persistente, os TIPS podem preservar o poder de compra do investidor e oferecer um retorno real acima da inflação.\n>     *   **Potencial de Valorização:** Os TIPS têm um potencial de valorização limitado em comparação com outros ativos, mas oferecem um refúgio seguro em tempos de inflação elevada. Além disso, os TIPS podem se beneficiar de uma queda nas taxas de juros reais.\n>     *   **Riscos:** Os TIPS estão sujeitos ao risco de taxa de juros e podem perder valor se as taxas de juros subirem. Além disso, os TIPS podem ter um desempenho inferior se a deflação se tornar uma preocupação.\n>     *   **Observação:** Acompanhe as expectativas de inflação do mercado, as taxas de juros reais e as projeções do CPI.\n> \n> **Recomendações Finais**\n> \n> *   **Diversificação:** É fundamental diversificar a carteira de investimentos, alocando uma parte dos recursos em ativos relacionados ao ouro e em outras classes de ativos, como ações, títulos e imóveis.\n> *   **Alocação Estratégica:** A alocação de recursos em cada ativo deve ser baseada no perfil de risco, objetivos de investimento e horizonte de tempo de cada investidor.\n> *   **Gestão Ativa:** É importante acompanhar de perto os desenvolvimentos macroeconômicos e microeconômicos, ajustando a estratégia de investimento conforme necessário.\n> *   **Visão de Longo Prazo:** O investimento em ouro e ativos relacionados deve ser encarado como uma estratégia de longo prazo, visando proteger o patrimônio e se beneficiar de incertezas econômicas.\n> *   **Consultoria Profissional:** Recomenda-se buscar a orientação de um consultor financeiro qualificado para auxiliar na tomada de decisões de investimento.\n> \n> **Observações Importantes**\n> \n> *   As análises e recomendações apresentadas são baseadas em informações disponíveis até a presente data e estão sujeitas a mudanças sem aviso prévio.\n> *   O desempenho passado não é garantia de resultados futuros.\n> *   O investimento em ativos financeiros envolve riscos e pode resultar em perdas.\n> *   Cada investidor deve realizar sua própria análise e tomar suas decisões de investimento com base em suas circunstâncias individuais.\n> \n> Espero que esta análise detalhada e abrangente seja útil para auxiliar na tomada de decisões de investimento relacionadas ao ouro.\n"
          },
          "metadata": {}
        },
        {
          "output_type": "stream",
          "name": "stdout",
          "text": [
            "--------------------------------------------------------------\n",
            "\n",
            "--- 📝 Resultado do Agente 6 (Avaliador de Investimentos) ---\n",
            "\n"
          ]
        },
        {
          "output_type": "display_data",
          "data": {
            "text/plain": [
              "<IPython.core.display.Markdown object>"
            ],
            "text/markdown": "> Okay, com base nas análises macro e microeconômicas, nas projeções de cenários e nas observações estratégicas, apresento uma seleção dos cinco ativos mais sólidos e promissores relacionados ao ouro, juntamente com uma avaliação do seu potencial de valorização e riscos associados:\n> \n> **Top 5 Ativos Relacionados ao Ouro**\n> \n> 1.  **abrdn Physical Gold Shares (SGOL) e Ishares Gold Trust (IAU):**\n> \n>     *   **O que são:** São como \"caixinhas\" (ETFs) que representam ouro físico de verdade.\n>     *   **Por que são bons:** Quando as coisas ficam incertas (inflação alta, guerras), o ouro tende a subir, e essas \"caixinhas\" sobem junto.\n>     *   **Risco:** Se os juros dos bancos subirem muito, pode ser que o ouro fique menos interessante.\n>     *   **Nota:** 9/10\n>     *   **Assertividade:** 85%\n>     *   **Risco:** Seguro\n>     *   **Risco vs Retorno:** Bom\n> \n> 2.  **Newmont Corporation (NEM):**\n> \n>     *   **O que é:** A maior empresa do mundo que extrai ouro.\n>     *   **Por que é boa:** Ela é grande, organizada e consegue ganhar dinheiro mesmo quando as coisas não estão fáceis.\n>     *   **Risco:** Se os custos para tirar o ouro da terra aumentarem, pode ser que ela ganhe menos dinheiro.\n>     *   **Nota:** 8/10\n>     *   **Assertividade:** 80%\n>     *   **Risco:** Moderado\n>     *   **Risco vs Retorno:** Bom\n> \n> 3.  **Barrick Gold Corporation (GOLD):**\n> \n>     *   **O que é:** Outra empresa grande que extrai ouro.\n>     *   **Por que é boa:** Ela é boa em controlar os gastos e tem várias minas diferentes.\n>     *   **Risco:** Problemas nas minas ou mudanças nas leis dos países onde ela atua podem atrapalhar.\n>     *   **Nota:** 7/10\n>     *   **Assertividade:** 75%\n>     *   **Risco:** Moderado\n>     *   **Risco vs Retorno:** Razoável\n> \n> 4.  **Prata:**\n> \n>     *   **O que é:** Um metal que vale dinheiro e também é usado em várias coisas, como eletrônicos.\n>     *   **Por que é boa:** Se a economia mundial crescer, a prata pode valer mais.\n>     *   **Risco:** A prata pode ser mais \"nervosa\" (volátil) que o ouro.\n>     *   **Nota:** 6/10\n>     *   **Assertividade:** 70%\n>     *   **Risco:** Moderado\n>     *   **Risco vs Retorno:** Razoável\n> \n> 5.  **Títulos do Tesouro Indexados à Inflação (TIPS):**\n> \n>     *   **O que são:** Títulos do governo que protegem o seu dinheiro da inflação (IPCA).\n>     *   **Por que são bons:** Se a inflação subir, o valor desses títulos também sobe.\n>     *   **Risco:** Se os juros subirem, o valor desses títulos pode cair.\n>     *   **Nota:** 5/10\n>     *   **Assertividade:** 65%\n>     *   **Risco:** Seguro\n>     *   **Risco vs Retorno:** Razoável\n> \n> **Resumo para Iniciantes:**\n> \n> *   **Ouro é um \"porto seguro\":** Em tempos de crise, as pessoas correm para o ouro, o que faz o preço subir.\n> *   **Inflação (IPCA):** É o aumento dos preços. Se a inflação sobe, o ouro também pode subir.\n> *   **Juros:** Se os juros sobem, investir em ouro pode ficar menos interessante.\n> *   **ETFs:** São como \"caixinhas\" que facilitam investir em ouro sem precisar comprar o metal físico.\n> \n> **Observações:**\n> \n> *   **Diversifique:** Não coloque todo o seu dinheiro em um só lugar.\n> *   **Acompanhe:** Fique de olho nas notícias e veja como a economia está se comportando.\n> *   **Longo prazo:** Pense em investir em ouro como uma forma de proteger o seu dinheiro ao longo do tempo.\n> \n> **Atenção:**\n> \n> *   **Não é recomendação:** Isso não é uma recomendação de investimento. É apenas um exercício para entender melhor o mercado.\n> *   **Sua decisão:** A decisão de investir é sua e você é o único responsável por ela.\n> *   **Sem garantia:** Ninguém pode garantir que você vai ganhar dinheiro investindo.\n> \n> **Isenção de responsabilidade:**\n> \n> Este relatório é apenas para fins educacionais e informativos. Não somos responsáveis por quaisquer decisões de investimento tomadas com base nessas informações. Consulte um profissional financeiro antes de investir.\n> \n"
          },
          "metadata": {}
        },
        {
          "output_type": "stream",
          "name": "stdout",
          "text": [
            "--------------------------------------------------------------\n"
          ]
        }
      ]
    }
  ]
}